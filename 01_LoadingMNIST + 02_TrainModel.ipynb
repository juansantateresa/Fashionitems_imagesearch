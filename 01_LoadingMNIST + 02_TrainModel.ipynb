{
 "cells": [
  {
   "cell_type": "code",
   "execution_count": 1,
   "metadata": {},
   "outputs": [],
   "source": [
    "import numpy as np\n"
   ]
  },
  {
   "cell_type": "markdown",
   "metadata": {},
   "source": [
    "Loading images and labes with below function which decompress from the .gz datasets"
   ]
  },
  {
   "cell_type": "code",
   "execution_count": 2,
   "metadata": {},
   "outputs": [],
   "source": [
    "def load_mnist(path, kind='train'):\n",
    "    import os\n",
    "    import gzip\n",
    "    import numpy as np\n",
    "\n",
    "    \"\"\"Load MNIST data from 'path'\"\"\"\n",
    "    labels_path = os.path.join(path,\n",
    "                               '%s-labels-idx1-ubyte.gz'\n",
    "                               % kind)\n",
    "    images_path = os.path.join(path,\n",
    "                               '%s-images-idx3-ubyte.gz'\n",
    "                               % kind)\n",
    "\n",
    "    with gzip.open(labels_path, 'rb') as lbpath:\n",
    "        labels = np.frombuffer(lbpath.read(), dtype=np.uint8,\n",
    "                               offset=8)\n",
    "\n",
    "    with gzip.open(images_path, 'rb') as imgpath:\n",
    "        images = np.frombuffer(imgpath.read(), dtype=np.uint8,\n",
    "                               offset=16).reshape(len(labels), 784)\n",
    "\n",
    "    return images, labels"
   ]
  },
  {
   "cell_type": "markdown",
   "metadata": {},
   "source": [
    "Now, let's explore de dataset: trainset, testset, images and labels"
   ]
  },
  {
   "cell_type": "code",
   "execution_count": 3,
   "metadata": {},
   "outputs": [],
   "source": [
    "Xtrain, Ytrain = load_mnist('dataset/')"
   ]
  },
  {
   "cell_type": "code",
   "execution_count": 4,
   "metadata": {},
   "outputs": [],
   "source": [
    "Xtest, Ytest = load_mnist('dataset/', kind= 't10k')"
   ]
  },
  {
   "cell_type": "code",
   "execution_count": 5,
   "metadata": {},
   "outputs": [],
   "source": [
    "import matplotlib.pyplot as plt"
   ]
  },
  {
   "cell_type": "code",
   "execution_count": 6,
   "metadata": {},
   "outputs": [
    {
     "name": "stdout",
     "output_type": "stream",
     "text": [
      "60000\n",
      "60000\n"
     ]
    }
   ],
   "source": [
    "print(len(Xtrain))\n",
    "print(len(Ytrain))"
   ]
  },
  {
   "cell_type": "code",
   "execution_count": 7,
   "metadata": {},
   "outputs": [],
   "source": [
    "img = Xtrain[1]"
   ]
  },
  {
   "cell_type": "code",
   "execution_count": 8,
   "metadata": {},
   "outputs": [
    {
     "data": {
      "text/plain": [
       "<matplotlib.image.AxesImage at 0x7fbf61665310>"
      ]
     },
     "execution_count": 8,
     "metadata": {},
     "output_type": "execute_result"
    },
    {
     "data": {
      "image/png": "[encoded data removed]",
      "text/plain": [
       "<Figure size 432x288 with 1 Axes>"
      ]
     },
     "metadata": {
      "needs_background": "light"
     },
     "output_type": "display_data"
    }
   ],
   "source": [
    "plt.imshow(img.reshape((28, 28)), cmap='Greys_r')"
   ]
  },
  {
   "cell_type": "code",
   "execution_count": 9,
   "metadata": {},
   "outputs": [
    {
     "data": {
      "text/plain": [
       "(60000,)"
      ]
     },
     "execution_count": 9,
     "metadata": {},
     "output_type": "execute_result"
    }
   ],
   "source": [
    "Ytrain.shape"
   ]
  },
  {
   "cell_type": "code",
   "execution_count": 10,
   "metadata": {},
   "outputs": [
    {
     "data": {
      "text/plain": [
       "array([9, 2, 1, ..., 8, 1, 5], dtype=uint8)"
      ]
     },
     "execution_count": 10,
     "metadata": {},
     "output_type": "execute_result"
    }
   ],
   "source": [
    "Ytest"
   ]
  },
  {
   "cell_type": "code",
   "execution_count": 11,
   "metadata": {},
   "outputs": [
    {
     "data": {
      "text/plain": [
       "10000"
      ]
     },
     "execution_count": 11,
     "metadata": {},
     "output_type": "execute_result"
    }
   ],
   "source": [
    "len(Ytest)"
   ]
  },
  {
   "cell_type": "code",
   "execution_count": 12,
   "metadata": {},
   "outputs": [
    {
     "data": {
      "text/plain": [
       "array([[0, 0, 0, ..., 0, 0, 0],\n",
       "       [0, 0, 0, ..., 0, 0, 0],\n",
       "       [0, 0, 0, ..., 0, 0, 0],\n",
       "       ...,\n",
       "       [0, 0, 0, ..., 0, 0, 0],\n",
       "       [0, 0, 0, ..., 0, 0, 0],\n",
       "       [0, 0, 0, ..., 0, 0, 0]], dtype=uint8)"
      ]
     },
     "execution_count": 12,
     "metadata": {},
     "output_type": "execute_result"
    }
   ],
   "source": [
    "Xtest"
   ]
  },
  {
   "cell_type": "code",
   "execution_count": 13,
   "metadata": {},
   "outputs": [],
   "source": [
    "import pandas as pd\n",
    "from keras.utils import to_categorical"
   ]
  },
  {
   "cell_type": "code",
   "execution_count": 15,
   "metadata": {},
   "outputs": [],
   "source": [
    "#Extract validation data for model fitting and evaluation, splitting the trainset. \n",
    "(Xtrain, Xval) = Xtrain[6000:], Xtrain[:6000]\n",
    "(Ytrain, Yval) = Ytrain[6000:], Ytrain[:6000]\n",
    "\n",
    "#Reshape input data \n",
    "\n",
    "Xtrain = Xtrain.reshape(Xtrain.shape[0], 28, 28, 1)\n",
    "Xval = Xval.reshape(Xval.shape[0], 28, 28, 1)\n",
    "Xtest = Xtest.reshape(Xtest.shape[0], 28, 28, 1)"
   ]
  },
  {
   "cell_type": "code",
   "execution_count": 23,
   "metadata": {},
   "outputs": [],
   "source": [
    "Ytrain = to_categorical(Ytrain, 10)\n",
    "Yval = to_categorical(Yval, 10)\n",
    "Ytest = to_categorical(Ytest, 10)"
   ]
  },
  {
   "cell_type": "code",
   "execution_count": 16,
   "metadata": {},
   "outputs": [
    {
     "name": "stdout",
     "output_type": "stream",
     "text": [
      "54000\n",
      "54000\n"
     ]
    }
   ],
   "source": [
    "print(len(Xtrain))\n",
    "print(len(Ytrain))"
   ]
  },
  {
   "cell_type": "code",
   "execution_count": 17,
   "metadata": {},
   "outputs": [],
   "source": [
    "import keras\n",
    "from keras.models import Sequential\n",
    "from keras.layers import Dense, Conv2D, Flatten, MaxPooling2D\n",
    "import tensorflow as tf\n",
    "from keras import layers"
   ]
  },
  {
   "cell_type": "code",
   "execution_count": 54,
   "metadata": {},
   "outputs": [
    {
     "name": "stdout",
     "output_type": "stream",
     "text": [
      "Model: \"sequential_13\"\n",
      "_________________________________________________________________\n",
      "Layer (type)                 Output Shape              Param #   \n",
      "=================================================================\n",
      "flatten_11 (Flatten)         (None, 784)               0         \n",
      "_________________________________________________________________\n",
      "dense_13 (Dense)             (None, 256)               200960    \n",
      "_________________________________________________________________\n",
      "dense_14 (Dense)             (None, 10)                2570      \n",
      "=================================================================\n",
      "Total params: 203,530\n",
      "Trainable params: 203,530\n",
      "Non-trainable params: 0\n",
      "_________________________________________________________________\n"
     ]
    }
   ],
   "source": [
    "model_1 = Sequential()\n",
    "\n",
    "model_1.add(Flatten(input_shape=(28,28)))\n",
    "model_1.add(Dense(units = 256, activation='relu'))\n",
    "model_1.add(Dense(units = 10, activation='softmax'))\n",
    "\n",
    "model_1.summary()"
   ]
  },
  {
   "cell_type": "code",
   "execution_count": 55,
   "metadata": {},
   "outputs": [],
   "source": [
    "model_1.compile(loss='categorical_crossentropy',\n",
    "             optimizer='adam',\n",
    "             metrics=['accuracy'])"
   ]
  },
  {
   "cell_type": "code",
   "execution_count": 56,
   "metadata": {},
   "outputs": [
    {
     "name": "stdout",
     "output_type": "stream",
     "text": [
      "Epoch 1/10\n",
      "844/844 [==============================] - 2s 2ms/step - loss: 16.0027 - accuracy: 0.7130 - val_loss: 0.7561 - val_accuracy: 0.7912\n",
      "Epoch 2/10\n",
      "844/844 [==============================] - 1s 1ms/step - loss: 0.6461 - accuracy: 0.7970 - val_loss: 0.5874 - val_accuracy: 0.8168\n",
      "Epoch 3/10\n",
      "844/844 [==============================] - 1s 2ms/step - loss: 0.5166 - accuracy: 0.8208 - val_loss: 0.5653 - val_accuracy: 0.8212\n",
      "Epoch 4/10\n",
      "844/844 [==============================] - 1s 2ms/step - loss: 0.4780 - accuracy: 0.8312 - val_loss: 0.5473 - val_accuracy: 0.8345\n",
      "Epoch 5/10\n",
      "844/844 [==============================] - 1s 2ms/step - loss: 0.4396 - accuracy: 0.8446 - val_loss: 0.5005 - val_accuracy: 0.8313\n",
      "Epoch 6/10\n",
      "844/844 [==============================] - 1s 2ms/step - loss: 0.4430 - accuracy: 0.8434 - val_loss: 0.5141 - val_accuracy: 0.8388\n",
      "Epoch 7/10\n",
      "844/844 [==============================] - 1s 2ms/step - loss: 0.4199 - accuracy: 0.8477 - val_loss: 0.4853 - val_accuracy: 0.8422\n",
      "Epoch 8/10\n",
      "844/844 [==============================] - 1s 2ms/step - loss: 0.4302 - accuracy: 0.8472 - val_loss: 0.4728 - val_accuracy: 0.8425\n",
      "Epoch 9/10\n",
      "844/844 [==============================] - 1s 2ms/step - loss: 0.4107 - accuracy: 0.8541 - val_loss: 0.4298 - val_accuracy: 0.8535\n",
      "Epoch 10/10\n",
      "844/844 [==============================] - 1s 1ms/step - loss: 0.4128 - accuracy: 0.8522 - val_loss: 0.4522 - val_accuracy: 0.8490\n"
     ]
    },
    {
     "data": {
      "text/plain": [
       "<tensorflow.python.keras.callbacks.History at 0x7fbf3595da90>"
      ]
     },
     "execution_count": 56,
     "metadata": {},
     "output_type": "execute_result"
    }
   ],
   "source": [
    "model_1.fit(Xtrain,\n",
    "         Ytrain,\n",
    "         batch_size=64,\n",
    "         epochs=10,\n",
    "         validation_data=(Xval, Yval))"
   ]
  },
  {
   "cell_type": "code",
   "execution_count": 82,
   "metadata": {},
   "outputs": [
    {
     "name": "stdout",
     "output_type": "stream",
     "text": [
      "Loss:  0.46648284792900085\n",
      "Acc:  0.8422999978065491\n"
     ]
    }
   ],
   "source": [
    "results_1 = model_1.evaluate(Xtest, Ytest, verbose=0)\n",
    "print('Loss: ', results_1[0])\n",
    "print('Acc: ', results_1[1])"
   ]
  },
  {
   "cell_type": "code",
   "execution_count": 30,
   "metadata": {},
   "outputs": [],
   "source": [
    "from keras.layers import Dropout"
   ]
  },
  {
   "cell_type": "code",
   "execution_count": 31,
   "metadata": {},
   "outputs": [
    {
     "name": "stdout",
     "output_type": "stream",
     "text": [
      "Model: \"sequential_2\"\n",
      "_________________________________________________________________\n",
      "Layer (type)                 Output Shape              Param #   \n",
      "=================================================================\n",
      "conv2d_3 (Conv2D)            (None, 28, 28, 64)        320       \n",
      "_________________________________________________________________\n",
      "max_pooling2d_3 (MaxPooling2 (None, 14, 14, 64)        0         \n",
      "_________________________________________________________________\n",
      "dropout_3 (Dropout)          (None, 14, 14, 64)        0         \n",
      "_________________________________________________________________\n",
      "conv2d_4 (Conv2D)            (None, 14, 14, 32)        8224      \n",
      "_________________________________________________________________\n",
      "max_pooling2d_4 (MaxPooling2 (None, 7, 7, 32)          0         \n",
      "_________________________________________________________________\n",
      "dropout_4 (Dropout)          (None, 7, 7, 32)          0         \n",
      "_________________________________________________________________\n",
      "flatten_1 (Flatten)          (None, 1568)              0         \n",
      "_________________________________________________________________\n",
      "dense_2 (Dense)              (None, 256)               401664    \n",
      "_________________________________________________________________\n",
      "dropout_5 (Dropout)          (None, 256)               0         \n",
      "_________________________________________________________________\n",
      "dense_3 (Dense)              (None, 10)                2570      \n",
      "=================================================================\n",
      "Total params: 412,778\n",
      "Trainable params: 412,778\n",
      "Non-trainable params: 0\n",
      "_________________________________________________________________\n"
     ]
    }
   ],
   "source": [
    "model = Sequential()\n",
    "\n",
    "#Input_size = 64\n",
    "model.add(Conv2D(filters=64, kernel_size=2, padding='same', \n",
    "                 activation='relu', input_shape=(28,28,1))) \n",
    "model.add(MaxPooling2D(pool_size=2))\n",
    "model.add(Dropout(0.3))\n",
    "\n",
    "model.add(Conv2D(filters=32, kernel_size=2, padding='same', activation='relu'))\n",
    "model.add(MaxPooling2D(pool_size=2))\n",
    "model.add(Dropout(0.3))\n",
    "\n",
    "model.add(Flatten())\n",
    "model.add(Dense(256, activation='relu'))\n",
    "model.add(Dropout(0.5))\n",
    "model.add(Dense(10, activation='softmax'))\n",
    "\n",
    "\n",
    "model.summary()"
   ]
  },
  {
   "cell_type": "code",
   "execution_count": 32,
   "metadata": {},
   "outputs": [],
   "source": [
    "model.compile(loss='categorical_crossentropy',\n",
    "             optimizer='adam',\n",
    "             metrics=['accuracy'])"
   ]
  },
  {
   "cell_type": "code",
   "execution_count": 33,
   "metadata": {},
   "outputs": [
    {
     "name": "stdout",
     "output_type": "stream",
     "text": [
      "Epoch 1/10\n",
      "844/844 [==============================] - 34s 40ms/step - loss: 3.8929 - accuracy: 0.5865 - val_loss: 0.4781 - val_accuracy: 0.8245\n",
      "Epoch 2/10\n",
      "844/844 [==============================] - 32s 38ms/step - loss: 0.5887 - accuracy: 0.7788 - val_loss: 0.4123 - val_accuracy: 0.8447\n",
      "Epoch 3/10\n",
      "844/844 [==============================] - 37s 44ms/step - loss: 0.5098 - accuracy: 0.8108 - val_loss: 0.3537 - val_accuracy: 0.8697\n",
      "Epoch 4/10\n",
      "844/844 [==============================] - 30s 36ms/step - loss: 0.4590 - accuracy: 0.8281 - val_loss: 0.3370 - val_accuracy: 0.8750\n",
      "Epoch 5/10\n",
      "844/844 [==============================] - 30s 35ms/step - loss: 0.4329 - accuracy: 0.8396 - val_loss: 0.3127 - val_accuracy: 0.8890\n",
      "Epoch 6/10\n",
      "844/844 [==============================] - 32s 38ms/step - loss: 0.4099 - accuracy: 0.8505 - val_loss: 0.3041 - val_accuracy: 0.8870\n",
      "Epoch 7/10\n",
      "844/844 [==============================] - 30s 36ms/step - loss: 0.3951 - accuracy: 0.8537 - val_loss: 0.2954 - val_accuracy: 0.8937\n",
      "Epoch 8/10\n",
      "844/844 [==============================] - 31s 37ms/step - loss: 0.3700 - accuracy: 0.8640 - val_loss: 0.2882 - val_accuracy: 0.8927\n",
      "Epoch 9/10\n",
      "844/844 [==============================] - 30s 36ms/step - loss: 0.3650 - accuracy: 0.8656 - val_loss: 0.2744 - val_accuracy: 0.9017\n",
      "Epoch 10/10\n",
      "844/844 [==============================] - 32s 38ms/step - loss: 0.3516 - accuracy: 0.8710 - val_loss: 0.2737 - val_accuracy: 0.8992\n"
     ]
    },
    {
     "data": {
      "text/plain": [
       "<tensorflow.python.keras.callbacks.History at 0x7fbf491d23d0>"
      ]
     },
     "execution_count": 33,
     "metadata": {},
     "output_type": "execute_result"
    }
   ],
   "source": [
    "model.fit(Xtrain,\n",
    "         Ytrain,\n",
    "         batch_size=64,\n",
    "         epochs=10,\n",
    "         validation_data=(Xval, Yval))"
   ]
  },
  {
   "cell_type": "code",
   "execution_count": 37,
   "metadata": {},
   "outputs": [
    {
     "name": "stdout",
     "output_type": "stream",
     "text": [
      "Loss:  0.30133935809135437\n",
      "Acc:  0.8910999894142151\n"
     ]
    }
   ],
   "source": [
    "results = model.evaluate(Xtest, Ytest, verbose=0)\n",
    "print('Loss: ', results[0])\n",
    "print('Acc: ', results[1])"
   ]
  },
  {
   "cell_type": "code",
   "execution_count": 61,
   "metadata": {},
   "outputs": [],
   "source": [
    "predictions = model.predict(Xtest)"
   ]
  },
  {
   "cell_type": "code",
   "execution_count": 76,
   "metadata": {},
   "outputs": [
    {
     "data": {
      "text/plain": [
       "4"
      ]
     },
     "execution_count": 76,
     "metadata": {},
     "output_type": "execute_result"
    }
   ],
   "source": [
    "value = 156\n",
    "np.argmax(predictions[value])"
   ]
  },
  {
   "cell_type": "code",
   "execution_count": 78,
   "metadata": {},
   "outputs": [
    {
     "data": {
      "text/plain": [
       "array([0., 0., 0., 0., 1., 0., 0., 0., 0., 0.], dtype=float32)"
      ]
     },
     "execution_count": 78,
     "metadata": {},
     "output_type": "execute_result"
    }
   ],
   "source": [
    "Ytest[value]"
   ]
  },
  {
   "cell_type": "code",
   "execution_count": 81,
   "metadata": {},
   "outputs": [
    {
     "data": {
      "text/plain": [
       "<matplotlib.image.AxesImage at 0x7fbf37f66c90>"
      ]
     },
     "execution_count": 81,
     "metadata": {},
     "output_type": "execute_result"
    },
    {
     "data": {
      "image/png": "[encoded data removed]",
      "text/plain": [
       "<Figure size 432x288 with 1 Axes>"
      ]
     },
     "metadata": {
      "needs_background": "light"
     },
     "output_type": "display_data"
    }
   ],
   "source": [
    "plt.imshow(Xtest[value].reshape(28,28), cmap ='Greys_r')"
   ]
  },
  {
   "cell_type": "code",
   "execution_count": null,
   "metadata": {},
   "outputs": [],
   "source": [
    "def plot_image(i, pred_arr, label, image):\n",
    "    pre"
   ]
  }
 ],
 "metadata": {
  "kernelspec": {
   "display_name": "Python 3",
   "language": "python",
   "name": "python3"
  },
  "language_info": {
   "codemirror_mode": {
    "name": "ipython",
    "version": 3
   },
   "file_extension": ".py",
   "mimetype": "text/x-python",
   "name": "python",
   "nbconvert_exporter": "python",
   "pygments_lexer": "ipython3",
   "version": "3.7.4"
  }
 },
 "nbformat": 4,
 "nbformat_minor": 2
}
