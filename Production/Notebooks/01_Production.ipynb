{
  "nbformat": 4,
  "nbformat_minor": 0,
  "metadata": {
    "colab": {
      "name": "01_Production.ipynb",
      "provenance": [],
      "collapsed_sections": []
    },
    "kernelspec": {
      "name": "python3",
      "display_name": "Python 3"
    },
    "language_info": {
      "name": "python"
    }
  },
  "cells": [
    {
      "cell_type": "code",
      "metadata": {
        "colab": {
          "base_uri": "https://localhost:8080/",
          "height": 1000
        },
        "id": "x5Lsj8KG5B_1",
        "outputId": "3072f209-0e50-44e6-d637-ea0aa6d1812c"
      },
      "source": [
        "!pip install streamlit\n",
        "!pip install pyngrok"
      ],
      "execution_count": null,
      "outputs": [
        {
          "output_type": "stream",
          "text": [
            "Collecting streamlit\n",
            "\u001b[?25l  Downloading https://files.pythonhosted.org/packages/8f/5c/ab7eb2b8577469981707ae2c8e3709c9fe99cca0026cad4bedaa1d980c56/streamlit-0.81.1-py2.py3-none-any.whl (8.2MB)\n",
            "\u001b[K     |████████████████████████████████| 8.2MB 4.3MB/s \n",
            "\u001b[?25hRequirement already satisfied: astor in /usr/local/lib/python3.7/dist-packages (from streamlit) (0.8.1)\n",
            "Collecting watchdog; platform_system != \"Darwin\"\n",
            "\u001b[?25l  Downloading https://files.pythonhosted.org/packages/58/f6/6b538562aaa62294ca0a1d18b59d9fcb1a43fe166fa5b3a258f445d64119/watchdog-2.1.1-py3-none-manylinux2014_x86_64.whl (74kB)\n",
            "\u001b[K     |████████████████████████████████| 81kB 10.8MB/s \n",
            "\u001b[?25hRequirement already satisfied: packaging in /usr/local/lib/python3.7/dist-packages (from streamlit) (20.9)\n",
            "Requirement already satisfied: tornado>=5.0 in /usr/local/lib/python3.7/dist-packages (from streamlit) (5.1.1)\n",
            "Collecting blinker\n",
            "\u001b[?25l  Downloading https://files.pythonhosted.org/packages/1b/51/e2a9f3b757eb802f61dc1f2b09c8c99f6eb01cf06416c0671253536517b6/blinker-1.4.tar.gz (111kB)\n",
            "\u001b[K     |████████████████████████████████| 112kB 54.5MB/s \n",
            "\u001b[?25hRequirement already satisfied: numpy in /usr/local/lib/python3.7/dist-packages (from streamlit) (1.19.5)\n",
            "Requirement already satisfied: click>=7.0 in /usr/local/lib/python3.7/dist-packages (from streamlit) (7.1.2)\n",
            "Requirement already satisfied: toml in /usr/local/lib/python3.7/dist-packages (from streamlit) (0.10.2)\n",
            "Requirement already satisfied: tzlocal in /usr/local/lib/python3.7/dist-packages (from streamlit) (1.5.1)\n",
            "Collecting pydeck>=0.1.dev5\n",
            "\u001b[?25l  Downloading https://files.pythonhosted.org/packages/d6/bc/f0e44828e4290367c869591d50d3671a4d0ee94926da6cb734b7b200308c/pydeck-0.6.2-py2.py3-none-any.whl (4.2MB)\n",
            "\u001b[K     |████████████████████████████████| 4.2MB 44.9MB/s \n",
            "\u001b[?25hCollecting gitpython\n",
            "\u001b[?25l  Downloading https://files.pythonhosted.org/packages/a6/99/98019716955ba243657daedd1de8f3a88ca1f5b75057c38e959db22fb87b/GitPython-3.1.14-py3-none-any.whl (159kB)\n",
            "\u001b[K     |████████████████████████████████| 163kB 47.8MB/s \n",
            "\u001b[?25hRequirement already satisfied: protobuf!=3.11,>=3.6.0 in /usr/local/lib/python3.7/dist-packages (from streamlit) (3.12.4)\n",
            "Requirement already satisfied: pandas>=0.21.0 in /usr/local/lib/python3.7/dist-packages (from streamlit) (1.1.5)\n",
            "Requirement already satisfied: requests in /usr/local/lib/python3.7/dist-packages (from streamlit) (2.23.0)\n",
            "Requirement already satisfied: cachetools>=4.0 in /usr/local/lib/python3.7/dist-packages (from streamlit) (4.2.1)\n",
            "Collecting base58\n",
            "  Downloading https://files.pythonhosted.org/packages/b8/a1/d9f565e9910c09fd325dc638765e8843a19fa696275c16cc08cf3b0a3c25/base58-2.1.0-py3-none-any.whl\n",
            "Requirement already satisfied: altair>=3.2.0 in /usr/local/lib/python3.7/dist-packages (from streamlit) (4.1.0)\n",
            "Requirement already satisfied: pillow>=6.2.0 in /usr/local/lib/python3.7/dist-packages (from streamlit) (7.1.2)\n",
            "Collecting validators\n",
            "  Downloading https://files.pythonhosted.org/packages/db/2f/7fed3ee94ad665ad2c1de87f858f10a7785251ff75b4fd47987888d07ef1/validators-0.18.2-py3-none-any.whl\n",
            "Requirement already satisfied: python-dateutil in /usr/local/lib/python3.7/dist-packages (from streamlit) (2.8.1)\n",
            "Requirement already satisfied: pyarrow; python_version < \"3.9\" in /usr/local/lib/python3.7/dist-packages (from streamlit) (3.0.0)\n",
            "Requirement already satisfied: pyparsing>=2.0.2 in /usr/local/lib/python3.7/dist-packages (from packaging->streamlit) (2.4.7)\n",
            "Requirement already satisfied: pytz in /usr/local/lib/python3.7/dist-packages (from tzlocal->streamlit) (2018.9)\n",
            "Collecting ipykernel>=5.1.2; python_version >= \"3.4\"\n",
            "\u001b[?25l  Downloading https://files.pythonhosted.org/packages/89/2d/cff3898f2f58f41b1031c9f98501992ae0c8378919213b88884a1db064c2/ipykernel-5.5.4-py3-none-any.whl (120kB)\n",
            "\u001b[K     |████████████████████████████████| 122kB 50.9MB/s \n",
            "\u001b[?25hRequirement already satisfied: ipywidgets>=7.0.0 in /usr/local/lib/python3.7/dist-packages (from pydeck>=0.1.dev5->streamlit) (7.6.3)\n",
            "Requirement already satisfied: jinja2>=2.10.1 in /usr/local/lib/python3.7/dist-packages (from pydeck>=0.1.dev5->streamlit) (2.11.3)\n",
            "Requirement already satisfied: traitlets>=4.3.2 in /usr/local/lib/python3.7/dist-packages (from pydeck>=0.1.dev5->streamlit) (5.0.5)\n",
            "Collecting gitdb<5,>=4.0.1\n",
            "\u001b[?25l  Downloading https://files.pythonhosted.org/packages/ea/e8/f414d1a4f0bbc668ed441f74f44c116d9816833a48bf81d22b697090dba8/gitdb-4.0.7-py3-none-any.whl (63kB)\n",
            "\u001b[K     |████████████████████████████████| 71kB 9.8MB/s \n",
            "\u001b[?25hRequirement already satisfied: six>=1.9 in /usr/local/lib/python3.7/dist-packages (from protobuf!=3.11,>=3.6.0->streamlit) (1.15.0)\n",
            "Requirement already satisfied: setuptools in /usr/local/lib/python3.7/dist-packages (from protobuf!=3.11,>=3.6.0->streamlit) (56.1.0)\n",
            "Requirement already satisfied: chardet<4,>=3.0.2 in /usr/local/lib/python3.7/dist-packages (from requests->streamlit) (3.0.4)\n",
            "Requirement already satisfied: certifi>=2017.4.17 in /usr/local/lib/python3.7/dist-packages (from requests->streamlit) (2020.12.5)\n",
            "Requirement already satisfied: idna<3,>=2.5 in /usr/local/lib/python3.7/dist-packages (from requests->streamlit) (2.10)\n",
            "Requirement already satisfied: urllib3!=1.25.0,!=1.25.1,<1.26,>=1.21.1 in /usr/local/lib/python3.7/dist-packages (from requests->streamlit) (1.24.3)\n",
            "Requirement already satisfied: entrypoints in /usr/local/lib/python3.7/dist-packages (from altair>=3.2.0->streamlit) (0.3)\n",
            "Requirement already satisfied: toolz in /usr/local/lib/python3.7/dist-packages (from altair>=3.2.0->streamlit) (0.11.1)\n",
            "Requirement already satisfied: jsonschema in /usr/local/lib/python3.7/dist-packages (from altair>=3.2.0->streamlit) (2.6.0)\n",
            "Requirement already satisfied: decorator>=3.4.0 in /usr/local/lib/python3.7/dist-packages (from validators->streamlit) (4.4.2)\n",
            "Requirement already satisfied: ipython>=5.0.0 in /usr/local/lib/python3.7/dist-packages (from ipykernel>=5.1.2; python_version >= \"3.4\"->pydeck>=0.1.dev5->streamlit) (5.5.0)\n",
            "Requirement already satisfied: jupyter-client in /usr/local/lib/python3.7/dist-packages (from ipykernel>=5.1.2; python_version >= \"3.4\"->pydeck>=0.1.dev5->streamlit) (5.3.5)\n",
            "Requirement already satisfied: widgetsnbextension~=3.5.0 in /usr/local/lib/python3.7/dist-packages (from ipywidgets>=7.0.0->pydeck>=0.1.dev5->streamlit) (3.5.1)\n",
            "Requirement already satisfied: jupyterlab-widgets>=1.0.0; python_version >= \"3.6\" in /usr/local/lib/python3.7/dist-packages (from ipywidgets>=7.0.0->pydeck>=0.1.dev5->streamlit) (1.0.0)\n",
            "Requirement already satisfied: nbformat>=4.2.0 in /usr/local/lib/python3.7/dist-packages (from ipywidgets>=7.0.0->pydeck>=0.1.dev5->streamlit) (5.1.3)\n",
            "Requirement already satisfied: MarkupSafe>=0.23 in /usr/local/lib/python3.7/dist-packages (from jinja2>=2.10.1->pydeck>=0.1.dev5->streamlit) (1.1.1)\n",
            "Requirement already satisfied: ipython-genutils in /usr/local/lib/python3.7/dist-packages (from traitlets>=4.3.2->pydeck>=0.1.dev5->streamlit) (0.2.0)\n",
            "Collecting smmap<5,>=3.0.1\n",
            "  Downloading https://files.pythonhosted.org/packages/68/ee/d540eb5e5996eb81c26ceffac6ee49041d473bc5125f2aa995cf51ec1cf1/smmap-4.0.0-py2.py3-none-any.whl\n",
            "Requirement already satisfied: simplegeneric>0.8 in /usr/local/lib/python3.7/dist-packages (from ipython>=5.0.0->ipykernel>=5.1.2; python_version >= \"3.4\"->pydeck>=0.1.dev5->streamlit) (0.8.1)\n",
            "Requirement already satisfied: prompt-toolkit<2.0.0,>=1.0.4 in /usr/local/lib/python3.7/dist-packages (from ipython>=5.0.0->ipykernel>=5.1.2; python_version >= \"3.4\"->pydeck>=0.1.dev5->streamlit) (1.0.18)\n",
            "Requirement already satisfied: pexpect; sys_platform != \"win32\" in /usr/local/lib/python3.7/dist-packages (from ipython>=5.0.0->ipykernel>=5.1.2; python_version >= \"3.4\"->pydeck>=0.1.dev5->streamlit) (4.8.0)\n",
            "Requirement already satisfied: pygments in /usr/local/lib/python3.7/dist-packages (from ipython>=5.0.0->ipykernel>=5.1.2; python_version >= \"3.4\"->pydeck>=0.1.dev5->streamlit) (2.6.1)\n",
            "Requirement already satisfied: pickleshare in /usr/local/lib/python3.7/dist-packages (from ipython>=5.0.0->ipykernel>=5.1.2; python_version >= \"3.4\"->pydeck>=0.1.dev5->streamlit) (0.7.5)\n",
            "Requirement already satisfied: jupyter-core>=4.6.0 in /usr/local/lib/python3.7/dist-packages (from jupyter-client->ipykernel>=5.1.2; python_version >= \"3.4\"->pydeck>=0.1.dev5->streamlit) (4.7.1)\n",
            "Requirement already satisfied: pyzmq>=13 in /usr/local/lib/python3.7/dist-packages (from jupyter-client->ipykernel>=5.1.2; python_version >= \"3.4\"->pydeck>=0.1.dev5->streamlit) (22.0.3)\n",
            "Requirement already satisfied: notebook>=4.4.1 in /usr/local/lib/python3.7/dist-packages (from widgetsnbextension~=3.5.0->ipywidgets>=7.0.0->pydeck>=0.1.dev5->streamlit) (5.3.1)\n",
            "Requirement already satisfied: wcwidth in /usr/local/lib/python3.7/dist-packages (from prompt-toolkit<2.0.0,>=1.0.4->ipython>=5.0.0->ipykernel>=5.1.2; python_version >= \"3.4\"->pydeck>=0.1.dev5->streamlit) (0.2.5)\n",
            "Requirement already satisfied: ptyprocess>=0.5 in /usr/local/lib/python3.7/dist-packages (from pexpect; sys_platform != \"win32\"->ipython>=5.0.0->ipykernel>=5.1.2; python_version >= \"3.4\"->pydeck>=0.1.dev5->streamlit) (0.7.0)\n",
            "Requirement already satisfied: terminado>=0.8.1 in /usr/local/lib/python3.7/dist-packages (from notebook>=4.4.1->widgetsnbextension~=3.5.0->ipywidgets>=7.0.0->pydeck>=0.1.dev5->streamlit) (0.9.4)\n",
            "Requirement already satisfied: nbconvert in /usr/local/lib/python3.7/dist-packages (from notebook>=4.4.1->widgetsnbextension~=3.5.0->ipywidgets>=7.0.0->pydeck>=0.1.dev5->streamlit) (5.6.1)\n",
            "Requirement already satisfied: Send2Trash in /usr/local/lib/python3.7/dist-packages (from notebook>=4.4.1->widgetsnbextension~=3.5.0->ipywidgets>=7.0.0->pydeck>=0.1.dev5->streamlit) (1.5.0)\n",
            "Requirement already satisfied: testpath in /usr/local/lib/python3.7/dist-packages (from nbconvert->notebook>=4.4.1->widgetsnbextension~=3.5.0->ipywidgets>=7.0.0->pydeck>=0.1.dev5->streamlit) (0.4.4)\n",
            "Requirement already satisfied: mistune<2,>=0.8.1 in /usr/local/lib/python3.7/dist-packages (from nbconvert->notebook>=4.4.1->widgetsnbextension~=3.5.0->ipywidgets>=7.0.0->pydeck>=0.1.dev5->streamlit) (0.8.4)\n",
            "Requirement already satisfied: pandocfilters>=1.4.1 in /usr/local/lib/python3.7/dist-packages (from nbconvert->notebook>=4.4.1->widgetsnbextension~=3.5.0->ipywidgets>=7.0.0->pydeck>=0.1.dev5->streamlit) (1.4.3)\n",
            "Requirement already satisfied: defusedxml in /usr/local/lib/python3.7/dist-packages (from nbconvert->notebook>=4.4.1->widgetsnbextension~=3.5.0->ipywidgets>=7.0.0->pydeck>=0.1.dev5->streamlit) (0.7.1)\n",
            "Requirement already satisfied: bleach in /usr/local/lib/python3.7/dist-packages (from nbconvert->notebook>=4.4.1->widgetsnbextension~=3.5.0->ipywidgets>=7.0.0->pydeck>=0.1.dev5->streamlit) (3.3.0)\n",
            "Requirement already satisfied: webencodings in /usr/local/lib/python3.7/dist-packages (from bleach->nbconvert->notebook>=4.4.1->widgetsnbextension~=3.5.0->ipywidgets>=7.0.0->pydeck>=0.1.dev5->streamlit) (0.5.1)\n",
            "Building wheels for collected packages: blinker\n",
            "  Building wheel for blinker (setup.py) ... \u001b[?25l\u001b[?25hdone\n",
            "  Created wheel for blinker: filename=blinker-1.4-cp37-none-any.whl size=13448 sha256=75e14627876eaa16904745c04a267c92140831568132694f8b4dc55d37f08c9d\n",
            "  Stored in directory: /root/.cache/pip/wheels/92/a0/00/8690a57883956a301d91cf4ec999cc0b258b01e3f548f86e89\n",
            "Successfully built blinker\n",
            "\u001b[31mERROR: google-colab 1.0.0 has requirement ipykernel~=4.10, but you'll have ipykernel 5.5.4 which is incompatible.\u001b[0m\n",
            "Installing collected packages: watchdog, blinker, ipykernel, pydeck, smmap, gitdb, gitpython, base58, validators, streamlit\n",
            "  Found existing installation: ipykernel 4.10.1\n",
            "    Uninstalling ipykernel-4.10.1:\n",
            "      Successfully uninstalled ipykernel-4.10.1\n",
            "Successfully installed base58-2.1.0 blinker-1.4 gitdb-4.0.7 gitpython-3.1.14 ipykernel-5.5.4 pydeck-0.6.2 smmap-4.0.0 streamlit-0.81.1 validators-0.18.2 watchdog-2.1.1\n"
          ],
          "name": "stdout"
        },
        {
          "output_type": "display_data",
          "data": {
            "application/vnd.colab-display-data+json": {
              "pip_warning": {
                "packages": [
                  "ipykernel"
                ]
              }
            }
          },
          "metadata": {
            "tags": []
          }
        },
        {
          "output_type": "stream",
          "text": [
            "Collecting pyngrok\n",
            "\u001b[?25l  Downloading https://files.pythonhosted.org/packages/6b/4e/a2fe095bbe17cf26424c4abcd22a0490e22d01cc628f25af5e220ddbf6f0/pyngrok-5.0.5.tar.gz (745kB)\n",
            "\r\u001b[K     |▍                               | 10kB 8.9MB/s eta 0:00:01\r\u001b[K     |▉                               | 20kB 14.3MB/s eta 0:00:01\r\u001b[K     |█▎                              | 30kB 11.9MB/s eta 0:00:01\r\u001b[K     |█▊                              | 40kB 9.9MB/s eta 0:00:01\r\u001b[K     |██▏                             | 51kB 4.7MB/s eta 0:00:01\r\u001b[K     |██▋                             | 61kB 5.3MB/s eta 0:00:01\r\u001b[K     |███                             | 71kB 5.1MB/s eta 0:00:01\r\u001b[K     |███▌                            | 81kB 5.5MB/s eta 0:00:01\r\u001b[K     |████                            | 92kB 5.8MB/s eta 0:00:01\r\u001b[K     |████▍                           | 102kB 4.5MB/s eta 0:00:01\r\u001b[K     |████▉                           | 112kB 4.5MB/s eta 0:00:01\r\u001b[K     |█████▎                          | 122kB 4.5MB/s eta 0:00:01\r\u001b[K     |█████▊                          | 133kB 4.5MB/s eta 0:00:01\r\u001b[K     |██████▏                         | 143kB 4.5MB/s eta 0:00:01\r\u001b[K     |██████▋                         | 153kB 4.5MB/s eta 0:00:01\r\u001b[K     |███████                         | 163kB 4.5MB/s eta 0:00:01\r\u001b[K     |███████▌                        | 174kB 4.5MB/s eta 0:00:01\r\u001b[K     |████████                        | 184kB 4.5MB/s eta 0:00:01\r\u001b[K     |████████▍                       | 194kB 4.5MB/s eta 0:00:01\r\u001b[K     |████████▉                       | 204kB 4.5MB/s eta 0:00:01\r\u001b[K     |█████████▎                      | 215kB 4.5MB/s eta 0:00:01\r\u001b[K     |█████████▊                      | 225kB 4.5MB/s eta 0:00:01\r\u001b[K     |██████████▏                     | 235kB 4.5MB/s eta 0:00:01\r\u001b[K     |██████████▌                     | 245kB 4.5MB/s eta 0:00:01\r\u001b[K     |███████████                     | 256kB 4.5MB/s eta 0:00:01\r\u001b[K     |███████████▍                    | 266kB 4.5MB/s eta 0:00:01\r\u001b[K     |███████████▉                    | 276kB 4.5MB/s eta 0:00:01\r\u001b[K     |████████████▎                   | 286kB 4.5MB/s eta 0:00:01\r\u001b[K     |████████████▊                   | 296kB 4.5MB/s eta 0:00:01\r\u001b[K     |█████████████▏                  | 307kB 4.5MB/s eta 0:00:01\r\u001b[K     |█████████████▋                  | 317kB 4.5MB/s eta 0:00:01\r\u001b[K     |██████████████                  | 327kB 4.5MB/s eta 0:00:01\r\u001b[K     |██████████████▌                 | 337kB 4.5MB/s eta 0:00:01\r\u001b[K     |███████████████                 | 348kB 4.5MB/s eta 0:00:01\r\u001b[K     |███████████████▍                | 358kB 4.5MB/s eta 0:00:01\r\u001b[K     |███████████████▉                | 368kB 4.5MB/s eta 0:00:01\r\u001b[K     |████████████████▎               | 378kB 4.5MB/s eta 0:00:01\r\u001b[K     |████████████████▊               | 389kB 4.5MB/s eta 0:00:01\r\u001b[K     |█████████████████▏              | 399kB 4.5MB/s eta 0:00:01\r\u001b[K     |█████████████████▋              | 409kB 4.5MB/s eta 0:00:01\r\u001b[K     |██████████████████              | 419kB 4.5MB/s eta 0:00:01\r\u001b[K     |██████████████████▌             | 430kB 4.5MB/s eta 0:00:01\r\u001b[K     |███████████████████             | 440kB 4.5MB/s eta 0:00:01\r\u001b[K     |███████████████████▍            | 450kB 4.5MB/s eta 0:00:01\r\u001b[K     |███████████████████▉            | 460kB 4.5MB/s eta 0:00:01\r\u001b[K     |████████████████████▎           | 471kB 4.5MB/s eta 0:00:01\r\u001b[K     |████████████████████▊           | 481kB 4.5MB/s eta 0:00:01\r\u001b[K     |█████████████████████           | 491kB 4.5MB/s eta 0:00:01\r\u001b[K     |█████████████████████▌          | 501kB 4.5MB/s eta 0:00:01\r\u001b[K     |██████████████████████          | 512kB 4.5MB/s eta 0:00:01\r\u001b[K     |██████████████████████▍         | 522kB 4.5MB/s eta 0:00:01\r\u001b[K     |██████████████████████▉         | 532kB 4.5MB/s eta 0:00:01\r\u001b[K     |███████████████████████▎        | 542kB 4.5MB/s eta 0:00:01\r\u001b[K     |███████████████████████▊        | 552kB 4.5MB/s eta 0:00:01\r\u001b[K     |████████████████████████▏       | 563kB 4.5MB/s eta 0:00:01\r\u001b[K     |████████████████████████▋       | 573kB 4.5MB/s eta 0:00:01\r\u001b[K     |█████████████████████████       | 583kB 4.5MB/s eta 0:00:01\r\u001b[K     |█████████████████████████▌      | 593kB 4.5MB/s eta 0:00:01\r\u001b[K     |██████████████████████████      | 604kB 4.5MB/s eta 0:00:01\r\u001b[K     |██████████████████████████▍     | 614kB 4.5MB/s eta 0:00:01\r\u001b[K     |██████████████████████████▉     | 624kB 4.5MB/s eta 0:00:01\r\u001b[K     |███████████████████████████▎    | 634kB 4.5MB/s eta 0:00:01\r\u001b[K     |███████████████████████████▊    | 645kB 4.5MB/s eta 0:00:01\r\u001b[K     |████████████████████████████▏   | 655kB 4.5MB/s eta 0:00:01\r\u001b[K     |████████████████████████████▋   | 665kB 4.5MB/s eta 0:00:01\r\u001b[K     |█████████████████████████████   | 675kB 4.5MB/s eta 0:00:01\r\u001b[K     |█████████████████████████████▌  | 686kB 4.5MB/s eta 0:00:01\r\u001b[K     |██████████████████████████████  | 696kB 4.5MB/s eta 0:00:01\r\u001b[K     |██████████████████████████████▍ | 706kB 4.5MB/s eta 0:00:01\r\u001b[K     |██████████████████████████████▉ | 716kB 4.5MB/s eta 0:00:01\r\u001b[K     |███████████████████████████████▏| 727kB 4.5MB/s eta 0:00:01\r\u001b[K     |███████████████████████████████▋| 737kB 4.5MB/s eta 0:00:01\r\u001b[K     |████████████████████████████████| 747kB 4.5MB/s \n",
            "\u001b[?25hRequirement already satisfied: PyYAML in /usr/local/lib/python3.7/dist-packages (from pyngrok) (3.13)\n",
            "Building wheels for collected packages: pyngrok\n",
            "  Building wheel for pyngrok (setup.py) ... \u001b[?25l\u001b[?25hdone\n",
            "  Created wheel for pyngrok: filename=pyngrok-5.0.5-cp37-none-any.whl size=19246 sha256=c4c318cede7e09802f6f96105d7c46b5a1eec2f5d9876c4d82dd2f69e0a4c693\n",
            "  Stored in directory: /root/.cache/pip/wheels/0c/13/64/5ebbcc22eaf53fdf5766b397c1fb17c83f5775fdccf0ea1b88\n",
            "Successfully built pyngrok\n",
            "Installing collected packages: pyngrok\n",
            "Successfully installed pyngrok-5.0.5\n"
          ],
          "name": "stdout"
        }
      ]
    },
    {
      "cell_type": "code",
      "metadata": {
        "colab": {
          "base_uri": "https://localhost:8080/"
        },
        "id": "qigz05oK5JHU",
        "outputId": "3c06fee2-0802-4d57-b4cd-e305f98187b6"
      },
      "source": [
        "!ngrok authtoken 1s4lkbDtBIFjCYIzmrt4epkCu8b_5YHYDBH7FJkD9jx8sTvaH"
      ],
      "execution_count": null,
      "outputs": [
        {
          "output_type": "stream",
          "text": [
            "Authtoken saved to configuration file: /root/.ngrok2/ngrok.yml\n"
          ],
          "name": "stdout"
        }
      ]
    },
    {
      "cell_type": "markdown",
      "metadata": {
        "id": "UjPSeClQalU4"
      },
      "source": [
        "Once utils folder files [ https://github.com/juansantateresa/Fashionitems_imagesearch/tree/main/Production/Utils/ ][texto del enlace are drag and dropped to current Colab session (/content/), run streamlit app executing cells below \n",
        "\n",
        "Files required:\n",
        "- app.py\n",
        "- img_search.py\n",
        "- model_4.h5\n",
        "- test_pickle"
      ]
    },
    {
      "cell_type": "code",
      "metadata": {
        "id": "vhFdMNWy8mXv"
      },
      "source": [
        "!streamlit run --server.port 80 app.py &>/dev/null&"
      ],
      "execution_count": null,
      "outputs": []
    },
    {
      "cell_type": "code",
      "metadata": {
        "colab": {
          "base_uri": "https://localhost:8080/"
        },
        "id": "pNSTK9xwGluZ",
        "outputId": "b3386a1a-aae5-429c-eb74-8175613552cb"
      },
      "source": [
        "from pyngrok import ngrok\n",
        "public_url = ngrok.connect(port='80')\n",
        "public_url"
      ],
      "execution_count": null,
      "outputs": [
        {
          "output_type": "execute_result",
          "data": {
            "text/plain": [
              "<NgrokTunnel: \"http://533cb46b8854.ngrok.io\" -> \"http://localhost:80\">"
            ]
          },
          "metadata": {
            "tags": []
          },
          "execution_count": 5
        }
      ]
    }
  ]
}