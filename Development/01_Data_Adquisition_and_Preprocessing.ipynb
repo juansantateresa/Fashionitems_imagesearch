{
  "nbformat": 4,
  "nbformat_minor": 0,
  "metadata": {
    "colab": {
      "name": "01_Data_Adquisition_and_Preprocessing",
      "provenance": [],
      "collapsed_sections": []
    },
    "kernelspec": {
      "name": "python3",
      "display_name": "Python 3"
    },
    "language_info": {
      "name": "python"
    }
  },
  "cells": [
    {
      "cell_type": "code",
      "metadata": {
        "id": "-AYa-_8zqbi2"
      },
      "source": [
        "#Imports of python basic packages for data manipulation, plotting\n",
        "import pandas as pd\n",
        "import numpy as np\n",
        "import matplotlib.pyplot as plt\n",
        "#Imports of system modules in python to access file manipulation features\n",
        "import os\n",
        "import gzip\n",
        "import requests"
      ],
      "execution_count": null,
      "outputs": []
    },
    {
      "cell_type": "code",
      "metadata": {
        "id": "fVvYuDwvqjJ4"
      },
      "source": [
        "#Import of gdown python package to download shared links from gdrive\n",
        "import gdown"
      ],
      "execution_count": null,
      "outputs": []
    },
    {
      "cell_type": "markdown",
      "metadata": {
        "id": "fYQcuILCCKfx"
      },
      "source": [
        "### 1. Imagesets and labels from Zalando MNIST\n",
        "\n",
        "Zalando gmbh provides its own MNIST imageset via github in order to serve an alternative MNIST dataset for benchmarking machine learning algorithms.\n",
        "https://github.com/zalandoresearch/fashion-mnist\n",
        "\n",
        "1.1. Importing data\n",
        "\n",
        "Although Zalando has created the MNIST as a built-in dataset so you can access using mnist-reader or API services, since one of the purposes of this Kschool Final Project is facing realistic and down-to-earth ways to storage and access data, I decided to storage data using Google Drive and create loading function ad hoc.\n"
      ]
    },
    {
      "cell_type": "code",
      "metadata": {
        "colab": {
          "base_uri": "https://localhost:8080/"
        },
        "id": "SfNcsPx1jUHV",
        "outputId": "698e5d20-4294-45b3-aaac-1614782c45e9"
      },
      "source": [
        "! pip install googledrivedownloader"
      ],
      "execution_count": null,
      "outputs": [
        {
          "output_type": "stream",
          "text": [
            "Requirement already satisfied: googledrivedownloader in /usr/local/lib/python3.7/dist-packages (0.4)\n"
          ],
          "name": "stdout"
        }
      ]
    },
    {
      "cell_type": "code",
      "metadata": {
        "colab": {
          "base_uri": "https://localhost:8080/"
        },
        "id": "fOfi6OO5jYBu",
        "outputId": "530d9dad-9bba-4e65-c135-363b73efd479"
      },
      "source": [
        "# Downloading Data from google drive using goolgedrivedownloader class to use ids from public links, indexing them on a dicctionary which key is id and value is the destination path in google drive\n",
        "from google_drive_downloader import GoogleDriveDownloader as gdd\n",
        "\n",
        "files_dict = {'12SqPALQ60vSpWw4qhY0Oboy1LH3Nvx6B' : './data/train_images.gz' , '18fv1neMzcDhp7BiSBDKhes_8oiBhSjuM' : './data/train_labels.gz', \n",
        "             '1TrLRhkcX7dDAP_gm0warj_sstvAW4yvb' : './data/test_images.gz', '1C4YDmgwBxAIq0Hb5ra-kwJY5qhvUs77l' : './data/test_labels.gz' }\n",
        "\n",
        "for file_id, dest_path in files_dict.items():\n",
        "  gdd.download_file_from_google_drive(file_id, dest_path, showsize=True, overwrite=True)                               "
      ],
      "execution_count": null,
      "outputs": [
        {
          "output_type": "stream",
          "text": [
            "Downloading 12SqPALQ60vSpWw4qhY0Oboy1LH3Nvx6B into ./data/train_images.gz... \n",
            "25.2 MiB Done.\n",
            "Downloading 18fv1neMzcDhp7BiSBDKhes_8oiBhSjuM into ./data/train_labels.gz... \n",
            "0.0 B Done.\n",
            "Downloading 1TrLRhkcX7dDAP_gm0warj_sstvAW4yvb into ./data/test_images.gz... \n",
            "4.2 MiB Done.\n",
            "Downloading 1C4YDmgwBxAIq0Hb5ra-kwJY5qhvUs77l into ./data/test_labels.gz... \n",
            "0.0 B Done.\n"
          ],
          "name": "stdout"
        }
      ]
    },
    {
      "cell_type": "markdown",
      "metadata": {
        "id": "NfLLu80CgZIM"
      },
      "source": [
        "1.2. Load images as numpy array\n",
        "\n",
        "As mentioned above, we have a loader function which reads the downloaded files path and unzip them storing into an 1 dimension array that allow us, later on, to use these image data to run our deep learning model and generate predictions."
      ]
    },
    {
      "cell_type": "code",
      "metadata": {
        "id": "acoDMqsugXfJ"
      },
      "source": [
        "#loader for datasets returning 1 dimension array \n",
        "def load_imgset(path, kind):\n",
        "  \n",
        "  labels_path = os.path.join(path, '%s_labels.gz' % kind)\n",
        "  images_path = os.path.join(path, '%s_images.gz' % kind)\n",
        "\n",
        "  with gzip.open(labels_path, 'rb') as lbpath:\n",
        "    labels = np.frombuffer(lbpath.read(), dtype=np.uint8, offset=8)\n",
        "    \n",
        "  with gzip.open(images_path, 'rb') as imgpath:   \n",
        "    images = np.frombuffer(imgpath.read(), dtype=np.uint8, offset=16).reshape(len(labels), 784)\n",
        "    \n",
        "  return images, labels"
      ],
      "execution_count": null,
      "outputs": []
    },
    {
      "cell_type": "markdown",
      "metadata": {
        "id": "0101ToBbwEoa"
      },
      "source": [
        "Now let's use the loader function to declare train and test arrays for labels and images and store within variables."
      ]
    },
    {
      "cell_type": "code",
      "metadata": {
        "id": "ENDaMYu2sJs6"
      },
      "source": [
        "#Appy loader for each train and test set \n",
        "Xtrain, ytrain = load_imgset('./data/', kind='train')\n",
        "Xtest, ytest = load_imgset('./data/', kind='test')"
      ],
      "execution_count": null,
      "outputs": []
    },
    {
      "cell_type": "markdown",
      "metadata": {
        "id": "dUm2_w-ZixV7"
      },
      "source": [
        "1.3. Exploring data\n",
        "\n",
        "As we can see, there are train and test labelled sets which 60k and 10k items accordingly. Image dimension is 28x28px.\n",
        "\n",
        "There are 10 different categories, from 0 to 9, which matching literal labels are also provided by Zalando.\n",
        "**texto en negrita**\n"
      ]
    },
    {
      "cell_type": "code",
      "metadata": {
        "colab": {
          "base_uri": "https://localhost:8080/"
        },
        "id": "WR7617k_ciMv",
        "outputId": "1f90205b-9204-413c-d93f-374e0a7fc5ec"
      },
      "source": [
        "print(Xtrain.shape, ytrain.shape, Xtest.shape, ytest.shape)"
      ],
      "execution_count": null,
      "outputs": [
        {
          "output_type": "stream",
          "text": [
            "(60000, 784) (60000,) (10000, 784) (10000,)\n"
          ],
          "name": "stdout"
        }
      ]
    },
    {
      "cell_type": "code",
      "metadata": {
        "colab": {
          "base_uri": "https://localhost:8080/"
        },
        "id": "JCCIyQjU_3Lk",
        "outputId": "8fe4e480-0470-4a52-fe56-7fc4bc70e592"
      },
      "source": [
        "num_categories = np.unique(ytest)\n",
        "num_categories"
      ],
      "execution_count": null,
      "outputs": [
        {
          "output_type": "execute_result",
          "data": {
            "text/plain": [
              "array([0, 1, 2, 3, 4, 5, 6, 7, 8, 9], dtype=uint8)"
            ]
          },
          "metadata": {
            "tags": []
          },
          "execution_count": 8
        }
      ]
    },
    {
      "cell_type": "code",
      "metadata": {
        "id": "__g7mfER1PZ-"
      },
      "source": [
        "#Dictionary including the numerical and literal  \n",
        "categ_dict = {'Label' : [0,1,2,3,4,5,6,7,8,9],\n",
        "              'Description' : ['T-shirt/top', 'Trouser', 'Pullover', 'Dress', 'Coat',\n",
        "                               'Sandal', 'Shirt', 'Sneaker', 'Bag', 'Ankle boot'  ]}\n",
        "\n",
        "categ_df = pd.DataFrame(categ_dict, columns=['Label', 'Description'], index=None)"
      ],
      "execution_count": null,
      "outputs": []
    },
    {
      "cell_type": "code",
      "metadata": {
        "colab": {
          "base_uri": "https://localhost:8080/",
          "height": 359
        },
        "id": "g7laeY5Y5vp2",
        "outputId": "35e1abeb-6c7b-4972-ee16-b07992ea4e30"
      },
      "source": [
        "categ_df"
      ],
      "execution_count": null,
      "outputs": [
        {
          "output_type": "execute_result",
          "data": {
            "text/html": [
              "<div>\n",
              "<style scoped>\n",
              "    .dataframe tbody tr th:only-of-type {\n",
              "        vertical-align: middle;\n",
              "    }\n",
              "\n",
              "    .dataframe tbody tr th {\n",
              "        vertical-align: top;\n",
              "    }\n",
              "\n",
              "    .dataframe thead th {\n",
              "        text-align: right;\n",
              "    }\n",
              "</style>\n",
              "<table border=\"1\" class=\"dataframe\">\n",
              "  <thead>\n",
              "    <tr style=\"text-align: right;\">\n",
              "      <th></th>\n",
              "      <th>Label</th>\n",
              "      <th>Description</th>\n",
              "    </tr>\n",
              "  </thead>\n",
              "  <tbody>\n",
              "    <tr>\n",
              "      <th>0</th>\n",
              "      <td>0</td>\n",
              "      <td>T-shirt/top</td>\n",
              "    </tr>\n",
              "    <tr>\n",
              "      <th>1</th>\n",
              "      <td>1</td>\n",
              "      <td>Trouser</td>\n",
              "    </tr>\n",
              "    <tr>\n",
              "      <th>2</th>\n",
              "      <td>2</td>\n",
              "      <td>Pullover</td>\n",
              "    </tr>\n",
              "    <tr>\n",
              "      <th>3</th>\n",
              "      <td>3</td>\n",
              "      <td>Dress</td>\n",
              "    </tr>\n",
              "    <tr>\n",
              "      <th>4</th>\n",
              "      <td>4</td>\n",
              "      <td>Coat</td>\n",
              "    </tr>\n",
              "    <tr>\n",
              "      <th>5</th>\n",
              "      <td>5</td>\n",
              "      <td>Sandal</td>\n",
              "    </tr>\n",
              "    <tr>\n",
              "      <th>6</th>\n",
              "      <td>6</td>\n",
              "      <td>Shirt</td>\n",
              "    </tr>\n",
              "    <tr>\n",
              "      <th>7</th>\n",
              "      <td>7</td>\n",
              "      <td>Sneaker</td>\n",
              "    </tr>\n",
              "    <tr>\n",
              "      <th>8</th>\n",
              "      <td>8</td>\n",
              "      <td>Bag</td>\n",
              "    </tr>\n",
              "    <tr>\n",
              "      <th>9</th>\n",
              "      <td>9</td>\n",
              "      <td>Ankle boot</td>\n",
              "    </tr>\n",
              "  </tbody>\n",
              "</table>\n",
              "</div>"
            ],
            "text/plain": [
              "   Label  Description\n",
              "0      0  T-shirt/top\n",
              "1      1      Trouser\n",
              "2      2     Pullover\n",
              "3      3        Dress\n",
              "4      4         Coat\n",
              "5      5       Sandal\n",
              "6      6        Shirt\n",
              "7      7      Sneaker\n",
              "8      8          Bag\n",
              "9      9   Ankle boot"
            ]
          },
          "metadata": {
            "tags": []
          },
          "execution_count": 10
        }
      ]
    },
    {
      "cell_type": "code",
      "metadata": {
        "colab": {
          "base_uri": "https://localhost:8080/",
          "height": 35
        },
        "id": "FSSkL3Ds6_EZ",
        "outputId": "99353d20-a166-4fa7-dc9e-9f32797f9f69"
      },
      "source": [
        "categ_df.Description[ytest[0]]"
      ],
      "execution_count": null,
      "outputs": [
        {
          "output_type": "execute_result",
          "data": {
            "application/vnd.google.colaboratory.intrinsic+json": {
              "type": "string"
            },
            "text/plain": [
              "'Ankle boot'"
            ]
          },
          "metadata": {
            "tags": []
          },
          "execution_count": 11
        }
      ]
    },
    {
      "cell_type": "markdown",
      "metadata": {
        "id": "ej0vgZqztPAY"
      },
      "source": [
        "Plotting our first raw images using plt.imshow keeping in mind that our array is q line of 784 positions and must be reshaped into squared 28x28."
      ]
    },
    {
      "cell_type": "code",
      "metadata": {
        "id": "yWwNuSh6kNVQ"
      },
      "source": [
        "#Import packages including keras image conversion to array just in case  \n",
        "\n",
        "from keras.preprocessing.image import ImageDataGenerator, load_img, img_to_array, array_to_img\n",
        "import matplotlib.pyplot as plt\n",
        "import random\n",
        "from random import randrange"
      ],
      "execution_count": null,
      "outputs": []
    },
    {
      "cell_type": "code",
      "metadata": {
        "id": "p6SfKo2T-8mI"
      },
      "source": [
        "#Plotting function which allows to quickly see a squared grid of raw images\n",
        "def plot_random_grid(grid_height, grid_width):\n",
        "  f, ax = plt.subplots(grid_height, grid_width, figsize=(10,10))\n",
        "  k = int(grid_height*grid_width)\n",
        "  random_index = np.array(random.sample(range(60000), k)).reshape(grid_height, grid_width)\n",
        "  \n",
        "  for i in range(0, len(random_index[0])):\n",
        "    for j in range(0, len(random_index)):\n",
        "      it_label = categ_df.Description[ytrain[random_index[i][j]]]\n",
        "\n",
        "      ax[i][j].set_title(it_label)\n",
        "      ax[i][j].imshow(Xtrain[random_index[i][j]].reshape(28,28))\n",
        "  \n",
        "  "
      ],
      "execution_count": null,
      "outputs": []
    },
    {
      "cell_type": "code",
      "metadata": {
        "colab": {
          "base_uri": "https://localhost:8080/",
          "height": 607
        },
        "id": "gU7e74K6H8G-",
        "outputId": "cdecff21-3cd4-4ab2-f309-eacc0e3cdcde"
      },
      "source": [
        "plot_random_grid(3,3)"
      ],
      "execution_count": null,
      "outputs": [
        {
          "output_type": "display_data",
          "data": {
            "image/png": "[encoded data removed]",
            "text/plain": [
              "<Figure size 720x720 with 9 Axes>"
            ]
          },
          "metadata": {
            "tags": [],
            "needs_background": "light"
          }
        }
      ]
    },
    {
      "cell_type": "markdown",
      "metadata": {
        "id": "SHrMHvYal7wa"
      },
      "source": [
        "On the other hand, let's count how many images in train set per category"
      ]
    },
    {
      "cell_type": "code",
      "metadata": {
        "colab": {
          "base_uri": "https://localhost:8080/"
        },
        "id": "fNKMlJhJC0rb",
        "outputId": "bb0d83f6-1971-42a7-fe33-111024b7360a"
      },
      "source": [
        "description_arr =np.array([0] * 60000)\n",
        "description_arr.reshape(60000,1)\n",
        "\n",
        "np.vstack(description_arr)"
      ],
      "execution_count": null,
      "outputs": [
        {
          "output_type": "execute_result",
          "data": {
            "text/plain": [
              "array([[0],\n",
              "       [0],\n",
              "       [0],\n",
              "       ...,\n",
              "       [0],\n",
              "       [0],\n",
              "       [0]])"
            ]
          },
          "metadata": {
            "tags": []
          },
          "execution_count": 15
        }
      ]
    },
    {
      "cell_type": "code",
      "metadata": {
        "colab": {
          "base_uri": "https://localhost:8080/"
        },
        "id": "MLCVpYJqFcOE",
        "outputId": "a819860c-e096-4f85-f021-b29b4ae483d5"
      },
      "source": [
        "ytrain_t = np.vstack(ytrain)\n",
        "ytrain_t"
      ],
      "execution_count": null,
      "outputs": [
        {
          "output_type": "execute_result",
          "data": {
            "text/plain": [
              "array([[9],\n",
              "       [0],\n",
              "       [0],\n",
              "       ...,\n",
              "       [3],\n",
              "       [0],\n",
              "       [5]], dtype=uint8)"
            ]
          },
          "metadata": {
            "tags": []
          },
          "execution_count": 16
        }
      ]
    },
    {
      "cell_type": "code",
      "metadata": {
        "id": "XUufyWkWssiN"
      },
      "source": [
        "df_train = pd.DataFrame(ytrain_t, columns=['Labels'])\n",
        "\n",
        "df_description = pd.DataFrame(description_arr, columns=['Description'] )"
      ],
      "execution_count": null,
      "outputs": []
    },
    {
      "cell_type": "code",
      "metadata": {
        "id": "HFV1vWpKCYzJ"
      },
      "source": [
        "df_labels = pd.concat([df_train,df_description])"
      ],
      "execution_count": null,
      "outputs": []
    },
    {
      "cell_type": "code",
      "metadata": {
        "colab": {
          "base_uri": "https://localhost:8080/",
          "height": 204
        },
        "id": "rrBipQOhKJ9h",
        "outputId": "64fc29ff-b6b1-48ae-9e0a-eddbd101fdd5"
      },
      "source": [
        "df_labels.head()"
      ],
      "execution_count": null,
      "outputs": [
        {
          "output_type": "execute_result",
          "data": {
            "text/html": [
              "<div>\n",
              "<style scoped>\n",
              "    .dataframe tbody tr th:only-of-type {\n",
              "        vertical-align: middle;\n",
              "    }\n",
              "\n",
              "    .dataframe tbody tr th {\n",
              "        vertical-align: top;\n",
              "    }\n",
              "\n",
              "    .dataframe thead th {\n",
              "        text-align: right;\n",
              "    }\n",
              "</style>\n",
              "<table border=\"1\" class=\"dataframe\">\n",
              "  <thead>\n",
              "    <tr style=\"text-align: right;\">\n",
              "      <th></th>\n",
              "      <th>Labels</th>\n",
              "      <th>Description</th>\n",
              "    </tr>\n",
              "  </thead>\n",
              "  <tbody>\n",
              "    <tr>\n",
              "      <th>0</th>\n",
              "      <td>9.0</td>\n",
              "      <td>NaN</td>\n",
              "    </tr>\n",
              "    <tr>\n",
              "      <th>1</th>\n",
              "      <td>0.0</td>\n",
              "      <td>NaN</td>\n",
              "    </tr>\n",
              "    <tr>\n",
              "      <th>2</th>\n",
              "      <td>0.0</td>\n",
              "      <td>NaN</td>\n",
              "    </tr>\n",
              "    <tr>\n",
              "      <th>3</th>\n",
              "      <td>3.0</td>\n",
              "      <td>NaN</td>\n",
              "    </tr>\n",
              "    <tr>\n",
              "      <th>4</th>\n",
              "      <td>0.0</td>\n",
              "      <td>NaN</td>\n",
              "    </tr>\n",
              "  </tbody>\n",
              "</table>\n",
              "</div>"
            ],
            "text/plain": [
              "   Labels  Description\n",
              "0     9.0          NaN\n",
              "1     0.0          NaN\n",
              "2     0.0          NaN\n",
              "3     3.0          NaN\n",
              "4     0.0          NaN"
            ]
          },
          "metadata": {
            "tags": []
          },
          "execution_count": 19
        }
      ]
    },
    {
      "cell_type": "code",
      "metadata": {
        "id": "ic5g68bGTQdU"
      },
      "source": [
        "df_labels=df_labels[df_labels['Labels'].notna()]\n",
        "df_labels['Labels'] = df_labels['Labels'].astype('int64')"
      ],
      "execution_count": null,
      "outputs": []
    },
    {
      "cell_type": "code",
      "metadata": {
        "id": "9IGVbCD4c6KB"
      },
      "source": [
        "#['T-shirt/top', 'Trouser', 'Pullover', 'Dress', 'Coat','Sandal', 'Shirt', 'Sneaker', 'Bag', 'Ankle boot'  ]}\n",
        "mapping_dict = {0:'T-shirt/top', 1:'Trouser', 2:'Pullover', 3:'Dress', 4:'Coat', 5:'Sandal', 6:'Shirt', 7:'Sneaker', 8:'Bag', 9:'Ankle boot'}"
      ],
      "execution_count": null,
      "outputs": []
    },
    {
      "cell_type": "code",
      "metadata": {
        "id": "7LJo_KAxNA8H"
      },
      "source": [
        "df_labels = df_labels['Labels'].map(mapping_dict)\n"
      ],
      "execution_count": null,
      "outputs": []
    },
    {
      "cell_type": "code",
      "metadata": {
        "id": "nE3Qra2ONaG0"
      },
      "source": [
        "df_labels = pd.DataFrame(df_labels)\n",
        "df_labels = df_labels.dropna()"
      ],
      "execution_count": null,
      "outputs": []
    },
    {
      "cell_type": "code",
      "metadata": {
        "id": "Wcvlwp8mj2Z7"
      },
      "source": [
        "df_labels['freq'] = df_labels.groupby('Labels')['Labels'].transform('count')"
      ],
      "execution_count": null,
      "outputs": []
    },
    {
      "cell_type": "code",
      "metadata": {
        "colab": {
          "base_uri": "https://localhost:8080/"
        },
        "id": "0qccKj-vj9AO",
        "outputId": "3be5391c-d3f0-4c54-8a39-aa50657c8bf4"
      },
      "source": [
        "df_labels['freq'].unique()"
      ],
      "execution_count": null,
      "outputs": [
        {
          "output_type": "execute_result",
          "data": {
            "text/plain": [
              "array([6000])"
            ]
          },
          "metadata": {
            "tags": []
          },
          "execution_count": 25
        }
      ]
    },
    {
      "cell_type": "markdown",
      "metadata": {
        "id": "v4h7G7Vu8ibE"
      },
      "source": [
        "Imageset are splitted in 10, having 6000 pcs per category"
      ]
    },
    {
      "cell_type": "markdown",
      "metadata": {
        "id": "K2tEn14o8vO8"
      },
      "source": [
        "1.4. Data Preprocessing\n",
        "\n",
        "Before using data in deep learning model, there are some preprocessing tasks which are necessary in order to make predictions and evaluate the model afterwards.\n",
        "\n",
        "First of all, let's split train set for model evaluation and fitting\n",
        "\n",
        "Secondly, since raw data is 1 dimension array, it is necessary to reshape it into a 28x28px format and only 1 color channel."
      ]
    },
    {
      "cell_type": "code",
      "metadata": {
        "id": "4b_HVQ6E-7sw"
      },
      "source": [
        "#Validation data extraction splitting array and storing into Xval and yval.\n",
        "(Xtrain, Xval) = Xtrain[6000:], Xtrain[:6000]\n",
        "(ytrain, yval) = ytrain[6000:], ytrain[:6000]"
      ],
      "execution_count": null,
      "outputs": []
    },
    {
      "cell_type": "code",
      "metadata": {
        "colab": {
          "base_uri": "https://localhost:8080/"
        },
        "id": "1einUlhvLiXX",
        "outputId": "1597a6f6-9c97-46cd-d8b0-1b9977c84cbf"
      },
      "source": [
        "print(yval.shape, Xtrain.shape)"
      ],
      "execution_count": null,
      "outputs": [
        {
          "output_type": "stream",
          "text": [
            "(6000,) (54000, 784)\n"
          ],
          "name": "stdout"
        }
      ]
    },
    {
      "cell_type": "code",
      "metadata": {
        "id": "qwUT_gFGG5nq"
      },
      "source": [
        "#Dataset resphaping\n",
        "Xtrain = Xtrain.reshape(Xtrain.shape[0], 28, 28, 1)\n",
        "Xval = Xval.reshape(Xval.shape[0], 28, 28, 1)\n",
        "Xtest = Xtest.reshape(Xtest.shape[0], 28, 28, 1)"
      ],
      "execution_count": null,
      "outputs": []
    },
    {
      "cell_type": "markdown",
      "metadata": {
        "id": "Qr8b79jwJGio"
      },
      "source": [
        "Also, in order to run the appropiate deep learning model for image classification and showing predictions, all categories should be inserted in the alghorithm as one hot encoder."
      ]
    },
    {
      "cell_type": "code",
      "metadata": {
        "id": "W5gFeqp2IPrc"
      },
      "source": [
        "#Import keras function to one hot encoding integer data\n",
        "from keras.utils import to_categorical"
      ],
      "execution_count": null,
      "outputs": []
    },
    {
      "cell_type": "code",
      "metadata": {
        "id": "IZRM4JRALHl4"
      },
      "source": [
        "ytrain = to_categorical(ytrain, 10)\n",
        "yval = to_categorical(yval, 10)\n",
        "ytest = to_categorical(ytest, 10)"
      ],
      "execution_count": null,
      "outputs": []
    },
    {
      "cell_type": "code",
      "metadata": {
        "id": "1ww3PIvLLcik",
        "colab": {
          "base_uri": "https://localhost:8080/"
        },
        "outputId": "da0c8276-7045-4d68-8eec-074ab3d8d87c"
      },
      "source": [
        "ytrain"
      ],
      "execution_count": null,
      "outputs": [
        {
          "output_type": "execute_result",
          "data": {
            "text/plain": [
              "array([[0., 0., 0., ..., 0., 1., 0.],\n",
              "       [0., 0., 0., ..., 0., 0., 0.],\n",
              "       [0., 0., 0., ..., 0., 0., 0.],\n",
              "       ...,\n",
              "       [0., 0., 0., ..., 0., 0., 0.],\n",
              "       [1., 0., 0., ..., 0., 0., 0.],\n",
              "       [0., 0., 0., ..., 0., 0., 0.]], dtype=float32)"
            ]
          },
          "metadata": {
            "tags": []
          },
          "execution_count": 32
        }
      ]
    },
    {
      "cell_type": "markdown",
      "metadata": {
        "id": "vimxAWlncVn1"
      },
      "source": [
        "Lastly, let's backup this colab session to start following notebook with this envirorment ready"
      ]
    },
    {
      "cell_type": "code",
      "metadata": {
        "colab": {
          "base_uri": "https://localhost:8080/"
        },
        "id": "QZFaN6iFKssa",
        "outputId": "dc78d3c4-8e42-4dd8-cc88-0c42c1855259"
      },
      "source": [
        "!pip install dill"
      ],
      "execution_count": null,
      "outputs": [
        {
          "output_type": "stream",
          "text": [
            "Requirement already satisfied: dill in /usr/local/lib/python3.7/dist-packages (0.3.3)\n"
          ],
          "name": "stdout"
        }
      ]
    },
    {
      "cell_type": "code",
      "metadata": {
        "colab": {
          "base_uri": "https://localhost:8080/"
        },
        "id": "lHtQWIB4SMjJ",
        "outputId": "233727e0-63bb-4a64-db57-ee2720b2290a"
      },
      "source": [
        "from google.colab import drive\n",
        "drive.mount('/content/drive')"
      ],
      "execution_count": null,
      "outputs": [
        {
          "output_type": "stream",
          "text": [
            "Drive already mounted at /content/drive; to attempt to forcibly remount, call drive.mount(\"/content/drive\", force_remount=True).\n"
          ],
          "name": "stdout"
        }
      ]
    },
    {
      "cell_type": "code",
      "metadata": {
        "id": "pCmEsoVPF6kC"
      },
      "source": [
        "import dill\n",
        "\n",
        "dill.dump_session('session.pkl')"
      ],
      "execution_count": null,
      "outputs": []
    },
    {
      "cell_type": "code",
      "metadata": {
        "colab": {
          "base_uri": "https://localhost:8080/"
        },
        "id": "ix7j4m5lKwaI",
        "outputId": "97f7e7ed-f2c4-489f-fc45-c2bd4ef621ac"
      },
      "source": [
        "!ls '/content/'"
      ],
      "execution_count": null,
      "outputs": [
        {
          "output_type": "stream",
          "text": [
            "01_nb_session.pkl  01_notebook_env.db  data  drive  sample_data  session.pkl\n"
          ],
          "name": "stdout"
        }
      ]
    },
    {
      "cell_type": "code",
      "metadata": {
        "id": "LiJ-gPDpQAT6"
      },
      "source": [
        "cp session.pkl '/content/drive/MyDrive'"
      ],
      "execution_count": null,
      "outputs": []
    }
  ]
}