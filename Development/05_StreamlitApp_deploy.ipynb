{
  "nbformat": 4,
  "nbformat_minor": 0,
  "metadata": {
    "colab": {
      "name": "05_StreamlitApp_deploy.ipynb",
      "provenance": [],
      "collapsed_sections": []
    },
    "kernelspec": {
      "name": "python3",
      "display_name": "Python 3"
    },
    "language_info": {
      "name": "python"
    }
  },
  "cells": [
    {
      "cell_type": "markdown",
      "metadata": {
        "id": "xptvD7JFv9Lm"
      },
      "source": [
        "5.1. Streamlit deploy \n",
        "\n",
        "Through this Colab notebook, we are going to deploy Streamlit app in order to have a frontend envirorment in which we can drag files and search similar pics.\n",
        "\n",
        "For Streamlit deploying in GColab ngrok (https://www.ngrok.com) is required. Ngrok provides a secure tunnel to cast a public url which connects with your local port used to run Streamlit app.\n",
        "\n",
        "Once the registration in ngrock is done, we can get the authtoken to activate ngrok.\n",
        "\n",
        "\n",
        "\n",
        "\n"
      ]
    },
    {
      "cell_type": "code",
      "metadata": {
        "colab": {
          "base_uri": "https://localhost:8080/",
          "height": 1000
        },
        "id": "_5Olp3ZPNZHH",
        "outputId": "3187fa5d-e609-4828-8a13-2496f4af9eaf"
      },
      "source": [
        "#Firstly, let's install streamlit and ngrok in our gcolab runtime\n",
        "!pip install streamlit\n",
        "!pip install pyngrok"
      ],
      "execution_count": 1,
      "outputs": [
        {
          "output_type": "stream",
          "text": [
            "Collecting streamlit\n",
            "\u001b[?25l  Downloading https://files.pythonhosted.org/packages/8f/5c/ab7eb2b8577469981707ae2c8e3709c9fe99cca0026cad4bedaa1d980c56/streamlit-0.81.1-py2.py3-none-any.whl (8.2MB)\n",
            "\u001b[K     |████████████████████████████████| 8.2MB 5.2MB/s \n",
            "\u001b[?25hRequirement already satisfied: tornado>=5.0 in /usr/local/lib/python3.7/dist-packages (from streamlit) (5.1.1)\n",
            "Collecting watchdog; platform_system != \"Darwin\"\n",
            "\u001b[?25l  Downloading https://files.pythonhosted.org/packages/58/f6/6b538562aaa62294ca0a1d18b59d9fcb1a43fe166fa5b3a258f445d64119/watchdog-2.1.1-py3-none-manylinux2014_x86_64.whl (74kB)\n",
            "\u001b[K     |████████████████████████████████| 81kB 7.9MB/s \n",
            "\u001b[?25hRequirement already satisfied: altair>=3.2.0 in /usr/local/lib/python3.7/dist-packages (from streamlit) (4.1.0)\n",
            "Requirement already satisfied: click>=7.0 in /usr/local/lib/python3.7/dist-packages (from streamlit) (7.1.2)\n",
            "Requirement already satisfied: python-dateutil in /usr/local/lib/python3.7/dist-packages (from streamlit) (2.8.1)\n",
            "Requirement already satisfied: pyarrow; python_version < \"3.9\" in /usr/local/lib/python3.7/dist-packages (from streamlit) (3.0.0)\n",
            "Requirement already satisfied: tzlocal in /usr/local/lib/python3.7/dist-packages (from streamlit) (1.5.1)\n",
            "Collecting gitpython\n",
            "\u001b[?25l  Downloading https://files.pythonhosted.org/packages/a6/99/98019716955ba243657daedd1de8f3a88ca1f5b75057c38e959db22fb87b/GitPython-3.1.14-py3-none-any.whl (159kB)\n",
            "\u001b[K     |████████████████████████████████| 163kB 40.9MB/s \n",
            "\u001b[?25hCollecting blinker\n",
            "\u001b[?25l  Downloading https://files.pythonhosted.org/packages/1b/51/e2a9f3b757eb802f61dc1f2b09c8c99f6eb01cf06416c0671253536517b6/blinker-1.4.tar.gz (111kB)\n",
            "\u001b[K     |████████████████████████████████| 112kB 41.5MB/s \n",
            "\u001b[?25hRequirement already satisfied: requests in /usr/local/lib/python3.7/dist-packages (from streamlit) (2.23.0)\n",
            "Requirement already satisfied: astor in /usr/local/lib/python3.7/dist-packages (from streamlit) (0.8.1)\n",
            "Collecting validators\n",
            "  Downloading https://files.pythonhosted.org/packages/db/2f/7fed3ee94ad665ad2c1de87f858f10a7785251ff75b4fd47987888d07ef1/validators-0.18.2-py3-none-any.whl\n",
            "Requirement already satisfied: pillow>=6.2.0 in /usr/local/lib/python3.7/dist-packages (from streamlit) (7.1.2)\n",
            "Requirement already satisfied: cachetools>=4.0 in /usr/local/lib/python3.7/dist-packages (from streamlit) (4.2.1)\n",
            "Collecting pydeck>=0.1.dev5\n",
            "\u001b[?25l  Downloading https://files.pythonhosted.org/packages/d6/bc/f0e44828e4290367c869591d50d3671a4d0ee94926da6cb734b7b200308c/pydeck-0.6.2-py2.py3-none-any.whl (4.2MB)\n",
            "\u001b[K     |████████████████████████████████| 4.2MB 20.1MB/s \n",
            "\u001b[?25hRequirement already satisfied: toml in /usr/local/lib/python3.7/dist-packages (from streamlit) (0.10.2)\n",
            "Collecting base58\n",
            "  Downloading https://files.pythonhosted.org/packages/b8/a1/d9f565e9910c09fd325dc638765e8843a19fa696275c16cc08cf3b0a3c25/base58-2.1.0-py3-none-any.whl\n",
            "Requirement already satisfied: numpy in /usr/local/lib/python3.7/dist-packages (from streamlit) (1.19.5)\n",
            "Requirement already satisfied: pandas>=0.21.0 in /usr/local/lib/python3.7/dist-packages (from streamlit) (1.1.5)\n",
            "Requirement already satisfied: packaging in /usr/local/lib/python3.7/dist-packages (from streamlit) (20.9)\n",
            "Requirement already satisfied: protobuf!=3.11,>=3.6.0 in /usr/local/lib/python3.7/dist-packages (from streamlit) (3.12.4)\n",
            "Requirement already satisfied: entrypoints in /usr/local/lib/python3.7/dist-packages (from altair>=3.2.0->streamlit) (0.3)\n",
            "Requirement already satisfied: toolz in /usr/local/lib/python3.7/dist-packages (from altair>=3.2.0->streamlit) (0.11.1)\n",
            "Requirement already satisfied: jinja2 in /usr/local/lib/python3.7/dist-packages (from altair>=3.2.0->streamlit) (2.11.3)\n",
            "Requirement already satisfied: jsonschema in /usr/local/lib/python3.7/dist-packages (from altair>=3.2.0->streamlit) (2.6.0)\n",
            "Requirement already satisfied: six>=1.5 in /usr/local/lib/python3.7/dist-packages (from python-dateutil->streamlit) (1.15.0)\n",
            "Requirement already satisfied: pytz in /usr/local/lib/python3.7/dist-packages (from tzlocal->streamlit) (2018.9)\n",
            "Collecting gitdb<5,>=4.0.1\n",
            "\u001b[?25l  Downloading https://files.pythonhosted.org/packages/ea/e8/f414d1a4f0bbc668ed441f74f44c116d9816833a48bf81d22b697090dba8/gitdb-4.0.7-py3-none-any.whl (63kB)\n",
            "\u001b[K     |████████████████████████████████| 71kB 8.1MB/s \n",
            "\u001b[?25hRequirement already satisfied: idna<3,>=2.5 in /usr/local/lib/python3.7/dist-packages (from requests->streamlit) (2.10)\n",
            "Requirement already satisfied: urllib3!=1.25.0,!=1.25.1,<1.26,>=1.21.1 in /usr/local/lib/python3.7/dist-packages (from requests->streamlit) (1.24.3)\n",
            "Requirement already satisfied: certifi>=2017.4.17 in /usr/local/lib/python3.7/dist-packages (from requests->streamlit) (2020.12.5)\n",
            "Requirement already satisfied: chardet<4,>=3.0.2 in /usr/local/lib/python3.7/dist-packages (from requests->streamlit) (3.0.4)\n",
            "Requirement already satisfied: decorator>=3.4.0 in /usr/local/lib/python3.7/dist-packages (from validators->streamlit) (4.4.2)\n",
            "Requirement already satisfied: ipywidgets>=7.0.0 in /usr/local/lib/python3.7/dist-packages (from pydeck>=0.1.dev5->streamlit) (7.6.3)\n",
            "Requirement already satisfied: traitlets>=4.3.2 in /usr/local/lib/python3.7/dist-packages (from pydeck>=0.1.dev5->streamlit) (5.0.5)\n",
            "Collecting ipykernel>=5.1.2; python_version >= \"3.4\"\n",
            "\u001b[?25l  Downloading https://files.pythonhosted.org/packages/89/2d/cff3898f2f58f41b1031c9f98501992ae0c8378919213b88884a1db064c2/ipykernel-5.5.4-py3-none-any.whl (120kB)\n",
            "\u001b[K     |████████████████████████████████| 122kB 30.7MB/s \n",
            "\u001b[?25hRequirement already satisfied: pyparsing>=2.0.2 in /usr/local/lib/python3.7/dist-packages (from packaging->streamlit) (2.4.7)\n",
            "Requirement already satisfied: setuptools in /usr/local/lib/python3.7/dist-packages (from protobuf!=3.11,>=3.6.0->streamlit) (56.1.0)\n",
            "Requirement already satisfied: MarkupSafe>=0.23 in /usr/local/lib/python3.7/dist-packages (from jinja2->altair>=3.2.0->streamlit) (1.1.1)\n",
            "Collecting smmap<5,>=3.0.1\n",
            "  Downloading https://files.pythonhosted.org/packages/68/ee/d540eb5e5996eb81c26ceffac6ee49041d473bc5125f2aa995cf51ec1cf1/smmap-4.0.0-py2.py3-none-any.whl\n",
            "Requirement already satisfied: ipython>=4.0.0; python_version >= \"3.3\" in /usr/local/lib/python3.7/dist-packages (from ipywidgets>=7.0.0->pydeck>=0.1.dev5->streamlit) (5.5.0)\n",
            "Requirement already satisfied: nbformat>=4.2.0 in /usr/local/lib/python3.7/dist-packages (from ipywidgets>=7.0.0->pydeck>=0.1.dev5->streamlit) (5.1.3)\n",
            "Requirement already satisfied: jupyterlab-widgets>=1.0.0; python_version >= \"3.6\" in /usr/local/lib/python3.7/dist-packages (from ipywidgets>=7.0.0->pydeck>=0.1.dev5->streamlit) (1.0.0)\n",
            "Requirement already satisfied: widgetsnbextension~=3.5.0 in /usr/local/lib/python3.7/dist-packages (from ipywidgets>=7.0.0->pydeck>=0.1.dev5->streamlit) (3.5.1)\n",
            "Requirement already satisfied: ipython-genutils in /usr/local/lib/python3.7/dist-packages (from traitlets>=4.3.2->pydeck>=0.1.dev5->streamlit) (0.2.0)\n",
            "Requirement already satisfied: jupyter-client in /usr/local/lib/python3.7/dist-packages (from ipykernel>=5.1.2; python_version >= \"3.4\"->pydeck>=0.1.dev5->streamlit) (5.3.5)\n",
            "Requirement already satisfied: pickleshare in /usr/local/lib/python3.7/dist-packages (from ipython>=4.0.0; python_version >= \"3.3\"->ipywidgets>=7.0.0->pydeck>=0.1.dev5->streamlit) (0.7.5)\n",
            "Requirement already satisfied: prompt-toolkit<2.0.0,>=1.0.4 in /usr/local/lib/python3.7/dist-packages (from ipython>=4.0.0; python_version >= \"3.3\"->ipywidgets>=7.0.0->pydeck>=0.1.dev5->streamlit) (1.0.18)\n",
            "Requirement already satisfied: simplegeneric>0.8 in /usr/local/lib/python3.7/dist-packages (from ipython>=4.0.0; python_version >= \"3.3\"->ipywidgets>=7.0.0->pydeck>=0.1.dev5->streamlit) (0.8.1)\n",
            "Requirement already satisfied: pygments in /usr/local/lib/python3.7/dist-packages (from ipython>=4.0.0; python_version >= \"3.3\"->ipywidgets>=7.0.0->pydeck>=0.1.dev5->streamlit) (2.6.1)\n",
            "Requirement already satisfied: pexpect; sys_platform != \"win32\" in /usr/local/lib/python3.7/dist-packages (from ipython>=4.0.0; python_version >= \"3.3\"->ipywidgets>=7.0.0->pydeck>=0.1.dev5->streamlit) (4.8.0)\n",
            "Requirement already satisfied: jupyter-core in /usr/local/lib/python3.7/dist-packages (from nbformat>=4.2.0->ipywidgets>=7.0.0->pydeck>=0.1.dev5->streamlit) (4.7.1)\n",
            "Requirement already satisfied: notebook>=4.4.1 in /usr/local/lib/python3.7/dist-packages (from widgetsnbextension~=3.5.0->ipywidgets>=7.0.0->pydeck>=0.1.dev5->streamlit) (5.3.1)\n",
            "Requirement already satisfied: pyzmq>=13 in /usr/local/lib/python3.7/dist-packages (from jupyter-client->ipykernel>=5.1.2; python_version >= \"3.4\"->pydeck>=0.1.dev5->streamlit) (22.0.3)\n",
            "Requirement already satisfied: wcwidth in /usr/local/lib/python3.7/dist-packages (from prompt-toolkit<2.0.0,>=1.0.4->ipython>=4.0.0; python_version >= \"3.3\"->ipywidgets>=7.0.0->pydeck>=0.1.dev5->streamlit) (0.2.5)\n",
            "Requirement already satisfied: ptyprocess>=0.5 in /usr/local/lib/python3.7/dist-packages (from pexpect; sys_platform != \"win32\"->ipython>=4.0.0; python_version >= \"3.3\"->ipywidgets>=7.0.0->pydeck>=0.1.dev5->streamlit) (0.7.0)\n",
            "Requirement already satisfied: Send2Trash in /usr/local/lib/python3.7/dist-packages (from notebook>=4.4.1->widgetsnbextension~=3.5.0->ipywidgets>=7.0.0->pydeck>=0.1.dev5->streamlit) (1.5.0)\n",
            "Requirement already satisfied: terminado>=0.8.1 in /usr/local/lib/python3.7/dist-packages (from notebook>=4.4.1->widgetsnbextension~=3.5.0->ipywidgets>=7.0.0->pydeck>=0.1.dev5->streamlit) (0.9.4)\n",
            "Requirement already satisfied: nbconvert in /usr/local/lib/python3.7/dist-packages (from notebook>=4.4.1->widgetsnbextension~=3.5.0->ipywidgets>=7.0.0->pydeck>=0.1.dev5->streamlit) (5.6.1)\n",
            "Requirement already satisfied: defusedxml in /usr/local/lib/python3.7/dist-packages (from nbconvert->notebook>=4.4.1->widgetsnbextension~=3.5.0->ipywidgets>=7.0.0->pydeck>=0.1.dev5->streamlit) (0.7.1)\n",
            "Requirement already satisfied: mistune<2,>=0.8.1 in /usr/local/lib/python3.7/dist-packages (from nbconvert->notebook>=4.4.1->widgetsnbextension~=3.5.0->ipywidgets>=7.0.0->pydeck>=0.1.dev5->streamlit) (0.8.4)\n",
            "Requirement already satisfied: pandocfilters>=1.4.1 in /usr/local/lib/python3.7/dist-packages (from nbconvert->notebook>=4.4.1->widgetsnbextension~=3.5.0->ipywidgets>=7.0.0->pydeck>=0.1.dev5->streamlit) (1.4.3)\n",
            "Requirement already satisfied: bleach in /usr/local/lib/python3.7/dist-packages (from nbconvert->notebook>=4.4.1->widgetsnbextension~=3.5.0->ipywidgets>=7.0.0->pydeck>=0.1.dev5->streamlit) (3.3.0)\n",
            "Requirement already satisfied: testpath in /usr/local/lib/python3.7/dist-packages (from nbconvert->notebook>=4.4.1->widgetsnbextension~=3.5.0->ipywidgets>=7.0.0->pydeck>=0.1.dev5->streamlit) (0.4.4)\n",
            "Requirement already satisfied: webencodings in /usr/local/lib/python3.7/dist-packages (from bleach->nbconvert->notebook>=4.4.1->widgetsnbextension~=3.5.0->ipywidgets>=7.0.0->pydeck>=0.1.dev5->streamlit) (0.5.1)\n",
            "Building wheels for collected packages: blinker\n",
            "  Building wheel for blinker (setup.py) ... \u001b[?25l\u001b[?25hdone\n",
            "  Created wheel for blinker: filename=blinker-1.4-cp37-none-any.whl size=13448 sha256=9e78ef92fb807413906ede891432c1c173c10e0d9f515c92980d678198a9005a\n",
            "  Stored in directory: /root/.cache/pip/wheels/92/a0/00/8690a57883956a301d91cf4ec999cc0b258b01e3f548f86e89\n",
            "Successfully built blinker\n",
            "\u001b[31mERROR: google-colab 1.0.0 has requirement ipykernel~=4.10, but you'll have ipykernel 5.5.4 which is incompatible.\u001b[0m\n",
            "Installing collected packages: watchdog, smmap, gitdb, gitpython, blinker, validators, ipykernel, pydeck, base58, streamlit\n",
            "  Found existing installation: ipykernel 4.10.1\n",
            "    Uninstalling ipykernel-4.10.1:\n",
            "      Successfully uninstalled ipykernel-4.10.1\n",
            "Successfully installed base58-2.1.0 blinker-1.4 gitdb-4.0.7 gitpython-3.1.14 ipykernel-5.5.4 pydeck-0.6.2 smmap-4.0.0 streamlit-0.81.1 validators-0.18.2 watchdog-2.1.1\n"
          ],
          "name": "stdout"
        },
        {
          "output_type": "display_data",
          "data": {
            "application/vnd.colab-display-data+json": {
              "pip_warning": {
                "packages": [
                  "ipykernel"
                ]
              }
            }
          },
          "metadata": {
            "tags": []
          }
        },
        {
          "output_type": "stream",
          "text": [
            "Collecting pyngrok\n",
            "\u001b[?25l  Downloading https://files.pythonhosted.org/packages/6b/4e/a2fe095bbe17cf26424c4abcd22a0490e22d01cc628f25af5e220ddbf6f0/pyngrok-5.0.5.tar.gz (745kB)\n",
            "\u001b[K     |████████████████████████████████| 747kB 5.0MB/s \n",
            "\u001b[?25hRequirement already satisfied: PyYAML in /usr/local/lib/python3.7/dist-packages (from pyngrok) (3.13)\n",
            "Building wheels for collected packages: pyngrok\n",
            "  Building wheel for pyngrok (setup.py) ... \u001b[?25l\u001b[?25hdone\n",
            "  Created wheel for pyngrok: filename=pyngrok-5.0.5-cp37-none-any.whl size=19246 sha256=af8365892e40c9d3de64c2aa9e2f188fb2b27962db201f81c8d67048c960055a\n",
            "  Stored in directory: /root/.cache/pip/wheels/0c/13/64/5ebbcc22eaf53fdf5766b397c1fb17c83f5775fdccf0ea1b88\n",
            "Successfully built pyngrok\n",
            "Installing collected packages: pyngrok\n",
            "Successfully installed pyngrok-5.0.5\n"
          ],
          "name": "stdout"
        }
      ]
    },
    {
      "cell_type": "code",
      "metadata": {
        "id": "Gbx7cmAUN-Ac"
      },
      "source": [
        "import pyngrok"
      ],
      "execution_count": 15,
      "outputs": []
    },
    {
      "cell_type": "code",
      "metadata": {
        "colab": {
          "base_uri": "https://localhost:8080/"
        },
        "id": "7MjMNxUdOBus",
        "outputId": "1eb7e332-b385-4096-9c36-052784cbc126"
      },
      "source": [
        "#ngrok activation \n",
        "!ngrok authtoken 1s4lkbDtBIFjCYIzmrt4epkCu8b_5YHYDBH7FJkD9jx8sTvaH"
      ],
      "execution_count": 14,
      "outputs": [
        {
          "output_type": "stream",
          "text": [
            "Authtoken saved to configuration file: /root/.ngrok2/ngrok.yml\n"
          ],
          "name": "stdout"
        }
      ]
    },
    {
      "cell_type": "code",
      "metadata": {
        "id": "VKcb2tYGNfh-"
      },
      "source": [
        "import os\n",
        "import numpy as np\n",
        "import pandas as pd\n",
        "import pickle\n",
        "import tensorflow\n",
        "from keras import models\n",
        "from keras.models import model_from_json\n",
        "from keras.preprocessing.image import load_img, img_to_array, array_to_img\n",
        "import streamlit as st\n",
        "import cv2\n",
        "import numpy as np"
      ],
      "execution_count": 3,
      "outputs": []
    },
    {
      "cell_type": "code",
      "metadata": {
        "colab": {
          "base_uri": "https://localhost:8080/"
        },
        "id": "x6deQiRIOxzC",
        "outputId": "a875b0ba-13ae-4530-dd90-3a673e289697"
      },
      "source": [
        "#Mount Gdrive in order to access to session.pkl and keras model \n",
        "from google.colab import drive\n",
        "drive.mount('/content/drive')"
      ],
      "execution_count": 4,
      "outputs": [
        {
          "output_type": "stream",
          "text": [
            "Mounted at /content/drive\n"
          ],
          "name": "stdout"
        }
      ]
    },
    {
      "cell_type": "code",
      "metadata": {
        "id": "P-I-P9F0xZAD"
      },
      "source": [
        "import dill\n",
        "dill.load_session('/content/drive/MyDrive/session.pkl')"
      ],
      "execution_count": 5,
      "outputs": []
    },
    {
      "cell_type": "markdown",
      "metadata": {
        "id": "llRYxB65ru6H"
      },
      "source": [
        "5.2. Plot function to use in Streamlit\n",
        "\n",
        "We will declare a function which will be used within Streamlit app. This function will plot 5 similar images, as similar_predict_plot function of '04_Feature_extraction.ipynb' but including the model loading inside"
      ]
    },
    {
      "cell_type": "code",
      "metadata": {
        "id": "Q4su8HoKfkrH"
      },
      "source": [
        "def similar_five_prediction(path):\n",
        "  sample_image_path = path\n",
        "  \n",
        "  img_dim = (28,28,1)\n",
        "  model = models.load_model('/content/drive/MyDrive/saved_model/model_4.h5')\n",
        "  image_to_predict = load_img(sample_image_path, target_size=img_dim)\n",
        "  image_to_predict_tensor = img_to_array(image_to_predict)\n",
        "  image_to_predict_tensor /= 255.\n",
        "  image_to_predict_tensor = cv2.cvtColor(image_to_predict_tensor,cv2.COLOR_RGB2GRAY)\n",
        "  image_to_predict_tensor = np.reshape(image_to_predict_tensor, (1,28,28,1))\n",
        "  prediction = np.argmax(model.predict(image_to_predict_tensor))\n",
        "  global_prediction = model.predict(Xtest)\n",
        "  n_cols = 5\n",
        "  labels = []\n",
        "  for i in range(n_cols):\n",
        "    for j in range(0, len(Xtest)):\n",
        "        if  prediction == np.argmax(global_prediction[j]):\n",
        "          labels.append(j)\n",
        "          i+=1\n",
        "                    \n",
        "  f, ax = plt.subplots(1, 5, figsize=(10,10))\n",
        "  for n in range(5):\n",
        "    ax[n].imshow(Xtest[labels[n]].reshape(28,28)) \n"
      ],
      "execution_count": 6,
      "outputs": []
    },
    {
      "cell_type": "code",
      "metadata": {
        "colab": {
          "base_uri": "https://localhost:8080/",
          "height": 146
        },
        "id": "dW8HwC9WyBms",
        "outputId": "af07aebc-7123-4e3f-9ed4-29e7be8d3087"
      },
      "source": [
        "similar_five_prediction('/content/drive/MyDrive/Images_sample_test/whiteblckbg1.png')"
      ],
      "execution_count": null,
      "outputs": [
        {
          "output_type": "display_data",
          "data": {
            "image/png": "[encoded data removed]",
            "text/plain": [
              "<Figure size 720x720 with 5 Axes>"
            ]
          },
          "metadata": {
            "tags": [],
            "needs_background": "light"
          }
        }
      ]
    },
    {
      "cell_type": "code",
      "metadata": {
        "id": "IGWaOdTmX_Uz"
      },
      "source": [
        "import sys\n",
        "sys.path.insert(0, '/content/drive/MyDrive/Python_Modules')"
      ],
      "execution_count": null,
      "outputs": []
    },
    {
      "cell_type": "markdown",
      "metadata": {
        "id": "yzspArBSP9j5"
      },
      "source": [
        "5.3. Streamlit App\n",
        "\n",
        "Since all resources that needed to be called within Streamlit app must be available in current Colab session or in gdrive, let's improve similar_five_prediction doing pickle of Xtest imageset and calling the model. Also all corresponding imports should be within it. \n",
        "\n",
        "This way img_search.py module is declared and stored in colab session."
      ]
    },
    {
      "cell_type": "code",
      "metadata": {
        "id": "lWyZ81mNImsG"
      },
      "source": [
        "import pickle\n",
        "with open('test_pickle', 'wb') as f:\n",
        "    pickle.dump(Xtest, f)"
      ],
      "execution_count": 7,
      "outputs": []
    },
    {
      "cell_type": "markdown",
      "metadata": {
        "id": "SkFbvpr1Sptc"
      },
      "source": [
        "Let's write 'develop' .py files to create Streamlit app which will be differentiated between production files."
      ]
    },
    {
      "cell_type": "code",
      "metadata": {
        "colab": {
          "base_uri": "https://localhost:8080/"
        },
        "id": "dXpK6qoi7G_E",
        "outputId": "61338b44-77f0-48a2-e9e9-612861d63b8b"
      },
      "source": [
        "%%writefile app_develop.py\n",
        "import streamlit\n",
        "from PIL import Image\n",
        "from img_search_develop import similar_five_prediction\n",
        "\n",
        "def run():\n",
        "  streamlit.title('Fashion Items Image Search')\n",
        "  uploaded_file = streamlit.file_uploader(\"Choose an image of clothing and search five similar\", type=[\"png\", \"jpg\"])\n",
        "  if uploaded_file is not None:\n",
        "    img = Image.open(uploaded_file)\n",
        "    streamlit.image(img, caption='Uploaded pic.', use_column_width=True)\n",
        "  if streamlit.button('Search five similar pics'):\n",
        "    similar_five_prediction(img)\n",
        "    streamlit.pyplot\n",
        "if __name__=='__main__':\n",
        "  run()"
      ],
      "execution_count": 19,
      "outputs": [
        {
          "output_type": "stream",
          "text": [
            "Overwriting app_develop.py\n"
          ],
          "name": "stdout"
        }
      ]
    },
    {
      "cell_type": "code",
      "metadata": {
        "colab": {
          "base_uri": "https://localhost:8080/"
        },
        "id": "YZLyUqMKenN-",
        "outputId": "ee9374f4-f4f8-4678-b340-f90fbcb89f1b"
      },
      "source": [
        "%%writefile img_search_develop.py\n",
        "import os\n",
        "import numpy as np\n",
        "import pandas as pd\n",
        "import pickle\n",
        "import tensorflow\n",
        "from keras import models\n",
        "from keras.preprocessing.image import load_img, img_to_array, array_to_img\n",
        "import cv2\n",
        "import matplotlib.pyplot as plt\n",
        "from PIL import Image, ImageOps\n",
        "import dill\n",
        "import pickle\n",
        "import streamlit\n",
        "\n",
        "\n",
        "def similar_five_prediction(image):\n",
        "  \n",
        "  with open('test_pickle', 'rb') as f:\n",
        "    test_arr = pickle.load(f)\n",
        "  img_dim = (28,28)\n",
        "  model = models.load_model('/content/drive/MyDrive/saved_model/model_4.h5')\n",
        "  image = ImageOps.fit(image, img_dim, Image.ANTIALIAS)\n",
        "  image_to_predict_tensor = img_to_array(image)\n",
        "  image_to_predict_tensor /= 28\n",
        "  image_to_predict_tensor = cv2.cvtColor(image_to_predict_tensor,cv2.COLOR_RGB2GRAY)\n",
        "  image_to_predict_tensor = np.reshape(image_to_predict_tensor, (1,28,28,1))\n",
        "  prediction = np.argmax(model.predict(image_to_predict_tensor))\n",
        "  global_prediction = model.predict(test_arr)\n",
        "  n_cols = 5\n",
        "  labels = []\n",
        "  for i in range(n_cols):\n",
        "    for j in range(0, len(test_arr)):\n",
        "        if  prediction == np.argmax(global_prediction[j]):\n",
        "          labels.append(j)\n",
        "          i+=1\n",
        "                    \n",
        "  fig, ax = plt.subplots(1, 5, figsize=(10,10))\n",
        "  \n",
        "  for n in range(5):\n",
        "    ax[n].imshow(test_arr[labels[n]].reshape(28,28)) \n",
        "    ax[n].axis(\"off\")\n",
        "  streamlit.pyplot(fig)"
      ],
      "execution_count": 20,
      "outputs": [
        {
          "output_type": "stream",
          "text": [
            "Overwriting img_search_develop.py\n"
          ],
          "name": "stdout"
        }
      ]
    },
    {
      "cell_type": "markdown",
      "metadata": {
        "id": "5eBpUVhSTAmx"
      },
      "source": [
        "Finally, Streamlit app will be run in port 80 and ngrok will connect this local port to cast the public url"
      ]
    },
    {
      "cell_type": "code",
      "metadata": {
        "id": "OksheQJUHQ3e"
      },
      "source": [
        "!streamlit run --server.port 80 app_develop.py &>/dev/null&"
      ],
      "execution_count": 21,
      "outputs": []
    },
    {
      "cell_type": "code",
      "metadata": {
        "colab": {
          "base_uri": "https://localhost:8080/"
        },
        "id": "ckyNaGJGZKDP",
        "outputId": "3068595c-d76f-4d33-bc9d-a05fe807061e"
      },
      "source": [
        "from pyngrok import ngrok\n",
        "public_url = ngrok.connect(port='80')\n",
        "public_url"
      ],
      "execution_count": 18,
      "outputs": [
        {
          "output_type": "stream",
          "text": [
            "2021-05-12 00:30:39.475 INFO    pyngrok.ngrok: Opening tunnel named: http-80-9b104128-1a4b-4483-ba00-d693d45ae4cd\n",
            "2021-05-12 00:30:39.481 INFO    pyngrok.process.ngrok: t=2021-05-12T00:30:39+0000 lvl=info msg=start pg=/api/tunnels id=8a17e697a1aa5254\n",
            "2021-05-12 00:30:39.555 INFO    pyngrok.process.ngrok: t=2021-05-12T00:30:39+0000 lvl=info msg=\"started tunnel\" obj=tunnels name=\"http-80-9b104128-1a4b-4483-ba00-d693d45ae4cd (http)\" addr=http://localhost:80 url=http://43354c456eb3.ngrok.io\n",
            "2021-05-12 00:30:39.559 INFO    pyngrok.process.ngrok: t=2021-05-12T00:30:39+0000 lvl=info msg=\"started tunnel\" obj=tunnels name=http-80-9b104128-1a4b-4483-ba00-d693d45ae4cd addr=http://localhost:80 url=https://43354c456eb3.ngrok.io\n",
            "2021-05-12 00:30:39.562 INFO    pyngrok.process.ngrok: t=2021-05-12T00:30:39+0000 lvl=info msg=end pg=/api/tunnels id=8a17e697a1aa5254 status=201 dur=75.110018ms\n",
            "2021-05-12 00:30:39.564 INFO    pyngrok.process.ngrok: t=2021-05-12T00:30:39+0000 lvl=info msg=start pg=\"/api/tunnels/http-80-9b104128-1a4b-4483-ba00-d693d45ae4cd (http)\" id=97f608bcc64f1b4d\n",
            "2021-05-12 00:30:39.572 INFO    pyngrok.process.ngrok: t=2021-05-12T00:30:39+0000 lvl=info msg=end pg=\"/api/tunnels/http-80-9b104128-1a4b-4483-ba00-d693d45ae4cd (http)\" id=97f608bcc64f1b4d status=200 dur=175.403µs\n"
          ],
          "name": "stderr"
        },
        {
          "output_type": "execute_result",
          "data": {
            "text/plain": [
              "<NgrokTunnel: \"http://43354c456eb3.ngrok.io\" -> \"http://localhost:80\">"
            ]
          },
          "metadata": {
            "tags": []
          },
          "execution_count": 18
        }
      ]
    },
    {
      "cell_type": "code",
      "metadata": {
        "id": "ON3pOq-qfbxs"
      },
      "source": [
        "#Requirements.txt download\n",
        "!pip3 freeze > requirements.txt"
      ],
      "execution_count": null,
      "outputs": []
    }
  ]
}